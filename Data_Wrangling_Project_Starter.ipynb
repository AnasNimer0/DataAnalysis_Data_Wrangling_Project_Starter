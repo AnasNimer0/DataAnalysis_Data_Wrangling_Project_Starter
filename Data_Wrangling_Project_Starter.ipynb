{
 "cells": [
  {
   "cell_type": "markdown",
   "metadata": {
    "id": "GNIwe5N7s0e_"
   },
   "source": [
    "# Real-world Data Wrangling"
   ]
  },
  {
   "cell_type": "markdown",
   "metadata": {
    "id": "_BG63Tpg8ep_"
   },
   "source": [
    "In this project, you will apply the skills you acquired in the course to gather and wrangle real-world data with two datasets of your choice.\n",
    "\n",
    "You will retrieve and extract the data, assess the data programmatically and visually, accross elements of data quality and structure, and implement a cleaning strategy for the data. You will then store the updated data into your selected database/data store, combine the data, and answer a research question with the datasets.\n",
    "\n",
    "Throughout the process, you are expected to:\n",
    "\n",
    "1. Explain your decisions towards methods used for gathering, assessing, cleaning, storing, and answering the research question\n",
    "2. Write code comments so your code is more readable\n",
    "\n",
    "Before you start, install the some of the required packages. "
   ]
  },
  {
   "cell_type": "code",
   "execution_count": 3,
   "metadata": {},
   "outputs": [
    {
     "name": "stdout",
     "output_type": "stream",
     "text": [
      "Defaulting to user installation because normal site-packages is not writeable\n",
      "Requirement already satisfied: kaggle==1.6.12 in /home/student/.local/lib/python3.10/site-packages (1.6.12)\n",
      "Requirement already satisfied: six>=1.10 in /opt/conda/lib/python3.10/site-packages (from kaggle==1.6.12) (1.16.0)\n",
      "Requirement already satisfied: bleach in /opt/conda/lib/python3.10/site-packages (from kaggle==1.6.12) (6.1.0)\n",
      "Requirement already satisfied: tqdm in /opt/conda/lib/python3.10/site-packages (from kaggle==1.6.12) (4.65.0)\n",
      "Requirement already satisfied: python-dateutil in /opt/conda/lib/python3.10/site-packages (from kaggle==1.6.12) (2.9.0.post0)\n",
      "Requirement already satisfied: python-slugify in /home/student/.local/lib/python3.10/site-packages (from kaggle==1.6.12) (8.0.4)\n",
      "Requirement already satisfied: urllib3 in /opt/conda/lib/python3.10/site-packages (from kaggle==1.6.12) (1.26.15)\n",
      "Requirement already satisfied: requests in /opt/conda/lib/python3.10/site-packages (from kaggle==1.6.12) (2.29.0)\n",
      "Requirement already satisfied: certifi>=2023.7.22 in /home/student/.local/lib/python3.10/site-packages (from kaggle==1.6.12) (2025.1.31)\n",
      "Requirement already satisfied: webencodings in /opt/conda/lib/python3.10/site-packages (from bleach->kaggle==1.6.12) (0.5.1)\n",
      "Requirement already satisfied: text-unidecode>=1.3 in /home/student/.local/lib/python3.10/site-packages (from python-slugify->kaggle==1.6.12) (1.3)\n",
      "Requirement already satisfied: charset-normalizer<4,>=2 in /opt/conda/lib/python3.10/site-packages (from requests->kaggle==1.6.12) (2.0.4)\n",
      "Requirement already satisfied: idna<4,>=2.5 in /opt/conda/lib/python3.10/site-packages (from requests->kaggle==1.6.12) (3.4)\n"
     ]
    }
   ],
   "source": [
    "!python -m pip install kaggle==1.6.12"
   ]
  },
  {
   "cell_type": "code",
   "execution_count": 4,
   "metadata": {},
   "outputs": [
    {
     "name": "stdout",
     "output_type": "stream",
     "text": [
      "Collecting ucimlrepo\n",
      "  Using cached ucimlrepo-0.0.7-py3-none-any.whl (8.0 kB)\n",
      "Collecting numpy==1.24.3\n",
      "  Using cached numpy-1.24.3-cp310-cp310-manylinux_2_17_x86_64.manylinux2014_x86_64.whl (17.3 MB)\n",
      "Collecting certifi>=2020.12.5\n",
      "  Using cached certifi-2025.1.31-py3-none-any.whl (166 kB)\n",
      "Collecting pandas>=1.0.0\n",
      "  Using cached pandas-2.2.3-cp310-cp310-manylinux_2_17_x86_64.manylinux2014_x86_64.whl (13.1 MB)\n",
      "Collecting python-dateutil>=2.8.2\n",
      "  Using cached python_dateutil-2.9.0.post0-py2.py3-none-any.whl (229 kB)\n",
      "Collecting pytz>=2020.1\n",
      "  Using cached pytz-2025.1-py2.py3-none-any.whl (507 kB)\n",
      "Collecting tzdata>=2022.7\n",
      "  Using cached tzdata-2025.1-py2.py3-none-any.whl (346 kB)\n",
      "Collecting six>=1.5\n",
      "  Using cached six-1.17.0-py2.py3-none-any.whl (11 kB)\n",
      "Installing collected packages: pytz, tzdata, six, numpy, certifi, python-dateutil, pandas, ucimlrepo\n",
      "Successfully installed certifi-2025.1.31 numpy-1.24.3 pandas-2.2.3 python-dateutil-2.9.0.post0 pytz-2025.1 six-1.17.0 tzdata-2025.1 ucimlrepo-0.0.7\n",
      "\u001b[33mWARNING: Target directory /workspace/__pycache__ already exists. Specify --upgrade to force replacement.\u001b[0m\u001b[33m\n",
      "\u001b[0m\u001b[33mWARNING: Target directory /workspace/six-1.17.0.dist-info already exists. Specify --upgrade to force replacement.\u001b[0m\u001b[33m\n",
      "\u001b[0m\u001b[33mWARNING: Target directory /workspace/python_dateutil-2.9.0.post0.dist-info already exists. Specify --upgrade to force replacement.\u001b[0m\u001b[33m\n",
      "\u001b[0m\u001b[33mWARNING: Target directory /workspace/numpy already exists. Specify --upgrade to force replacement.\u001b[0m\u001b[33m\n",
      "\u001b[0m\u001b[33mWARNING: Target directory /workspace/pandas already exists. Specify --upgrade to force replacement.\u001b[0m\u001b[33m\n",
      "\u001b[0m\u001b[33mWARNING: Target directory /workspace/numpy-1.24.3.dist-info already exists. Specify --upgrade to force replacement.\u001b[0m\u001b[33m\n",
      "\u001b[0m\u001b[33mWARNING: Target directory /workspace/pytz-2025.1.dist-info already exists. Specify --upgrade to force replacement.\u001b[0m\u001b[33m\n",
      "\u001b[0m\u001b[33mWARNING: Target directory /workspace/tzdata-2025.1.dist-info already exists. Specify --upgrade to force replacement.\u001b[0m\u001b[33m\n",
      "\u001b[0m\u001b[33mWARNING: Target directory /workspace/certifi-2025.1.31.dist-info already exists. Specify --upgrade to force replacement.\u001b[0m\u001b[33m\n",
      "\u001b[0m\u001b[33mWARNING: Target directory /workspace/tzdata already exists. Specify --upgrade to force replacement.\u001b[0m\u001b[33m\n",
      "\u001b[0m\u001b[33mWARNING: Target directory /workspace/ucimlrepo already exists. Specify --upgrade to force replacement.\u001b[0m\u001b[33m\n",
      "\u001b[0m\u001b[33mWARNING: Target directory /workspace/ucimlrepo-0.0.7.dist-info already exists. Specify --upgrade to force replacement.\u001b[0m\u001b[33m\n",
      "\u001b[0m\u001b[33mWARNING: Target directory /workspace/pandas-2.2.3.dist-info already exists. Specify --upgrade to force replacement.\u001b[0m\u001b[33m\n",
      "\u001b[0m\u001b[33mWARNING: Target directory /workspace/numpy.libs already exists. Specify --upgrade to force replacement.\u001b[0m\u001b[33m\n",
      "\u001b[0m\u001b[33mWARNING: Target directory /workspace/pytz already exists. Specify --upgrade to force replacement.\u001b[0m\u001b[33m\n",
      "\u001b[0m\u001b[33mWARNING: Target directory /workspace/dateutil already exists. Specify --upgrade to force replacement.\u001b[0m\u001b[33m\n",
      "\u001b[0m\u001b[33mWARNING: Target directory /workspace/six.py already exists. Specify --upgrade to force replacement.\u001b[0m\u001b[33m\n",
      "\u001b[0m\u001b[33mWARNING: Target directory /workspace/certifi already exists. Specify --upgrade to force replacement.\u001b[0m\u001b[33m\n",
      "\u001b[0m\u001b[33mWARNING: Target directory /workspace/bin already exists. Specify --upgrade to force replacement.\u001b[0m\u001b[33m\n",
      "\u001b[0m"
     ]
    }
   ],
   "source": [
    "!pip install --target=/workspace ucimlrepo numpy==1.24.3"
   ]
  },
  {
   "cell_type": "markdown",
   "metadata": {},
   "source": [
    "**Note:** Restart the kernel to use updated package(s)."
   ]
  },
  {
   "cell_type": "code",
   "execution_count": 88,
   "metadata": {},
   "outputs": [],
   "source": [
    "#import libraries\n",
    "import pandas as pd\n",
    "import numpy as np"
   ]
  },
  {
   "cell_type": "markdown",
   "metadata": {
    "id": "lDYDkH-Zs7Nn"
   },
   "source": [
    "## 1. Gather data\n",
    "\n",
    "In this section, you will extract data using two different data gathering methods and combine the data."
   ]
  },
  {
   "cell_type": "markdown",
   "metadata": {
    "id": "LbN7z7rcuqpO"
   },
   "source": [
    "### **1.1.** Problem Statement\n",
    "In the film industry, various factors contribute to a movie's success and audience reception. Among these factors, runtime is often debated in terms of its impact on a movie's overall rating. This study aims to explore the relationship between the runtime of movies and their ratings to understand if and how the length of a film affects its critical and audience reception."
   ]
  },
  {
   "cell_type": "markdown",
   "metadata": {
    "id": "gi6swhjSYqu2"
   },
   "source": [
    "## Datasets\n",
    "\n",
    "#### 1. Hydra Movies Dataset  \n",
    "This dataset, available on [Kaggle](https://www.kaggle.com), includes detailed information about movies, including directors, writers, cast, and more.  \n",
    "\n",
    "#### 2. OMDb API Data  \n",
    "Additional data will be gathered using the [OMDb (Open Movie Database) API](https://www.omdbapi.com). This API provides access to a large repository of movie information, including ratings, which will be used to supplement the analysis.  \n"
   ]
  },
  {
   "cell_type": "markdown",
   "metadata": {
    "id": "8AQfBAdUypMm"
   },
   "source": [
    "### **1.2.** Gather at least two datasets using two different data gathering methods"
   ]
  },
  {
   "cell_type": "markdown",
   "metadata": {
    "id": "7e6gS0wL1KTu"
   },
   "source": [
    "#### **Dataset 1**\n",
    "\n",
    "**Type:** CSV File\n",
    "\n",
    "**Method:** The data was gathered via Manual Download from Kaggle as linked above.\n",
    "\n",
    "**Dataset variables:**\n",
    "\n",
    "| Column Name       | Description                                      |\n",
    "|-------------------|--------------------------------------------------|\n",
    "| **Title**        | The title of the movie.                          |\n",
    "| **Year**         | The year the movie was released.                 |\n",
    "| **Summary**      | A full summary of the movie.                     |\n",
    "| **Short Summary** | A brief summary of the movie.                   |\n",
    "| **Genres**       | The genres the movie falls into.                 |\n",
    "| **Runtime**      | The length of the movie in minutes.              |\n",
    "| **YouTube Trailer** | The YouTube trailer ID for the movie.          |\n",
    "| **Rating**       | The rating of the movie.                         |\n",
    "| **Movie Poster** | The URL path for the movie poster.               |\n",
    "| **Director**     | The director of the movie.                       |\n",
    "| **Writers**      | The writers of the movie.                        |\n",
    "| **Cast**         | The cast of the movie.                           |\n"
   ]
  },
  {
   "cell_type": "code",
   "execution_count": 89,
   "metadata": {
    "id": "Su8E0uLuYkHU"
   },
   "outputs": [
    {
     "data": {
      "text/html": [
       "<div>\n",
       "<style scoped>\n",
       "    .dataframe tbody tr th:only-of-type {\n",
       "        vertical-align: middle;\n",
       "    }\n",
       "\n",
       "    .dataframe tbody tr th {\n",
       "        vertical-align: top;\n",
       "    }\n",
       "\n",
       "    .dataframe thead th {\n",
       "        text-align: right;\n",
       "    }\n",
       "</style>\n",
       "<table border=\"1\" class=\"dataframe\">\n",
       "  <thead>\n",
       "    <tr style=\"text-align: right;\">\n",
       "      <th></th>\n",
       "      <th>index</th>\n",
       "      <th>Title</th>\n",
       "      <th>Year</th>\n",
       "      <th>Summary</th>\n",
       "      <th>Short Summary</th>\n",
       "      <th>Genres</th>\n",
       "      <th>IMDB ID</th>\n",
       "      <th>Runtime</th>\n",
       "      <th>YouTube Trailer</th>\n",
       "      <th>Rating</th>\n",
       "      <th>Movie Poster</th>\n",
       "      <th>Director</th>\n",
       "      <th>Writers</th>\n",
       "      <th>Cast</th>\n",
       "    </tr>\n",
       "  </thead>\n",
       "  <tbody>\n",
       "    <tr>\n",
       "      <th>0</th>\n",
       "      <td>0</td>\n",
       "      <td>Patton Oswalt: Annihilation</td>\n",
       "      <td>2017</td>\n",
       "      <td>Patton Oswald, despite a personal tragedy, pro...</td>\n",
       "      <td>Patton Oswalt, despite a personal tragedy, pro...</td>\n",
       "      <td>Uncategorized</td>\n",
       "      <td>tt7026230</td>\n",
       "      <td>66</td>\n",
       "      <td>4hZi5QaMBFc</td>\n",
       "      <td>7.4</td>\n",
       "      <td>https://hydramovies.com/wp-content/uploads/201...</td>\n",
       "      <td>Bobcat Goldthwait</td>\n",
       "      <td>Patton Oswalt</td>\n",
       "      <td>Patton Oswalt</td>\n",
       "    </tr>\n",
       "    <tr>\n",
       "      <th>1</th>\n",
       "      <td>1</td>\n",
       "      <td>New York Doll</td>\n",
       "      <td>2005</td>\n",
       "      <td>A recovering alcoholic and recently converted ...</td>\n",
       "      <td>A recovering alcoholic and recently converted ...</td>\n",
       "      <td>Documentary|Music</td>\n",
       "      <td>tt0436629</td>\n",
       "      <td>75</td>\n",
       "      <td>jwD04NsnLLg</td>\n",
       "      <td>7.9</td>\n",
       "      <td>https://hydramovies.com/wp-content/uploads/201...</td>\n",
       "      <td>Greg Whiteley</td>\n",
       "      <td>Arthur Kane</td>\n",
       "      <td>Sylvain Sylvain</td>\n",
       "    </tr>\n",
       "  </tbody>\n",
       "</table>\n",
       "</div>"
      ],
      "text/plain": [
       "   index                        Title  Year  \\\n",
       "0      0  Patton Oswalt: Annihilation  2017   \n",
       "1      1                New York Doll  2005   \n",
       "\n",
       "                                             Summary  \\\n",
       "0  Patton Oswald, despite a personal tragedy, pro...   \n",
       "1  A recovering alcoholic and recently converted ...   \n",
       "\n",
       "                                       Short Summary             Genres  \\\n",
       "0  Patton Oswalt, despite a personal tragedy, pro...      Uncategorized   \n",
       "1  A recovering alcoholic and recently converted ...  Documentary|Music   \n",
       "\n",
       "     IMDB ID  Runtime YouTube Trailer  Rating  \\\n",
       "0  tt7026230       66     4hZi5QaMBFc     7.4   \n",
       "1  tt0436629       75     jwD04NsnLLg     7.9   \n",
       "\n",
       "                                        Movie Poster           Director  \\\n",
       "0  https://hydramovies.com/wp-content/uploads/201...  Bobcat Goldthwait   \n",
       "1  https://hydramovies.com/wp-content/uploads/201...      Greg Whiteley   \n",
       "\n",
       "         Writers             Cast  \n",
       "0  Patton Oswalt    Patton Oswalt  \n",
       "1    Arthur Kane  Sylvain Sylvain  "
      ]
     },
     "execution_count": 89,
     "metadata": {},
     "output_type": "execute_result"
    }
   ],
   "source": [
    "#FILL IN 1st data gathering and loading method\n",
    "movies_first= pd.read_csv('Hydra-Movie-Scrape.csv')\n",
    "\n",
    "# Show two rows as example from dataset\n",
    "movies_first.head(2)"
   ]
  },
  {
   "cell_type": "markdown",
   "metadata": {
    "id": "hoUjq1tPzz7P"
   },
   "source": [
    "#### Dataset 2\n",
    "\n",
    "**Type:** CSV File from API.\n",
    "\n",
    "**Method:** The data was gathered using the \"API\" method from OMDb.\n",
    "\n",
    "A snippet of the API request code, I have changed the csv file this code saves to, so it would not replace the csv gathered.\n",
    "\n",
    "**Note:** Had to include so much more Movie Id's to get the data.\n",
    "\n",
    "\n"
   ]
  },
  {
   "cell_type": "code",
   "execution_count": 90,
   "metadata": {},
   "outputs": [],
   "source": [
    "#import request library to use collect data by API method\n",
    "\n",
    "import requests"
   ]
  },
  {
   "cell_type": "code",
   "execution_count": 91,
   "metadata": {
    "id": "6zT0QxRyYmm7"
   },
   "outputs": [
    {
     "name": "stdout",
     "output_type": "stream",
     "text": [
      "Data saved to fetch_data.csv\n",
      "Total movies fetched: 14\n"
     ]
    }
   ],
   "source": [
    "API_KEY = 'd338cb0e'\n",
    "BASE_URL = 'http://www.omdbapi.com/'\n",
    "\n",
    "def get_movie_details(imdb_id):\n",
    "    params = {\n",
    "        'apikey': API_KEY,\n",
    "        'i': imdb_id\n",
    "    }\n",
    "    response = requests.get(BASE_URL, params=params)\n",
    "    return response.json()\n",
    "\n",
    "def main():\n",
    "    imdb_ids = [\n",
    "    'tt0133093', 'tt0120737', 'tt1375666', 'tt0468569', 'tt0076759', 'tt0050083', 'tt0068646', \n",
    "    'tt0137523', 'tt0109830', 'tt0110912', 'tt0060196', 'tt0080684', 'tt0167260', 'tt0071562']\n",
    "\n",
    "    movies = []\n",
    "    \n",
    "    for imdb_id in imdb_ids:\n",
    "        movie = get_movie_details(imdb_id)\n",
    "        if movie:\n",
    "            movies.append(movie)\n",
    "\n",
    "    fetch_data = []\n",
    "    for movie in movies:\n",
    "        title = movie.get('Title', 'Unknown')\n",
    "        rating = movie.get('imdbRating', 'N/A')\n",
    "        genre = movie.get('Genre', 'N/A')\n",
    "        runtime = movie.get('Runtime', 'N/A')\n",
    "\n",
    "        fetch_data.append({\n",
    "            'Title': title,\n",
    "            'Rating': rating,\n",
    "            'Genre': genre,\n",
    "            'Runtime': runtime\n",
    "        })\n",
    "\n",
    "    # Convert to DataFrame and save to CSV\n",
    "    df = pd.DataFrame(fetch_data)\n",
    "    df.to_csv('fetch_data.csv', index=False)\n",
    "    print('Data saved to fetch_data.csv')\n",
    "    print(f\"Total movies fetched: {len(movies)}\")\n",
    "\n",
    "if __name__ == \"__main__\":\n",
    "    main()"
   ]
  },
  {
   "cell_type": "code",
   "execution_count": 92,
   "metadata": {},
   "outputs": [
    {
     "data": {
      "text/html": [
       "<div>\n",
       "<style scoped>\n",
       "    .dataframe tbody tr th:only-of-type {\n",
       "        vertical-align: middle;\n",
       "    }\n",
       "\n",
       "    .dataframe tbody tr th {\n",
       "        vertical-align: top;\n",
       "    }\n",
       "\n",
       "    .dataframe thead th {\n",
       "        text-align: right;\n",
       "    }\n",
       "</style>\n",
       "<table border=\"1\" class=\"dataframe\">\n",
       "  <thead>\n",
       "    <tr style=\"text-align: right;\">\n",
       "      <th></th>\n",
       "      <th>Title</th>\n",
       "      <th>Rating</th>\n",
       "      <th>Genre</th>\n",
       "      <th>Runtime</th>\n",
       "    </tr>\n",
       "  </thead>\n",
       "  <tbody>\n",
       "    <tr>\n",
       "      <th>0</th>\n",
       "      <td>Le caviar rouge</td>\n",
       "      <td>4.1</td>\n",
       "      <td>Drama</td>\n",
       "      <td>92 min</td>\n",
       "    </tr>\n",
       "    <tr>\n",
       "      <th>1</th>\n",
       "      <td>The Octopuses from the Second Floor</td>\n",
       "      <td>6.9</td>\n",
       "      <td>Comedy, Family, Sci-Fi</td>\n",
       "      <td>92 min</td>\n",
       "    </tr>\n",
       "  </tbody>\n",
       "</table>\n",
       "</div>"
      ],
      "text/plain": [
       "                                 Title  Rating                   Genre Runtime\n",
       "0                      Le caviar rouge     4.1                   Drama  92 min\n",
       "1  The Octopuses from the Second Floor     6.9  Comedy, Family, Sci-Fi  92 min"
      ]
     },
     "execution_count": 92,
     "metadata": {},
     "output_type": "execute_result"
    }
   ],
   "source": [
    "#Read CSV file\n",
    "movies_sec=pd.read_csv('movies_data.csv')\n",
    "\n",
    "# Show two rows as example from dataset\n",
    "movies_sec.head(2)"
   ]
  },
  {
   "cell_type": "markdown",
   "metadata": {},
   "source": [
    "## Dataset Details:\n",
    "The second dataset used in this analysis includes the following columns:\n",
    "\n",
    "| Column Name       | Description                                      |\n",
    "|-------------------|--------------------------------------------------|\n",
    "| **Title**        | The name of the movie.                        |\n",
    "| **Rating**         | The average rating of the movie, typically on a scale from 0 to 10.|\n",
    "| **Genre**      | The genre or genres that describe the movie. Multiple genres are listed, separated by commas.|\n",
    "| **Runtime**      | The total duration of the movie, expressed in minutes.              |\n",
    "\n"
   ]
  },
  {
   "cell_type": "markdown",
   "metadata": {
    "id": "QwSWIVmotLgV"
   },
   "source": [
    "## 2. Assess data\n",
    "\n",
    "Assess the data according to data quality and tidiness metrics using the report below.\n",
    "\n",
    "List **two** data quality issues and **two** tidiness issues. Assess each data issue visually **and** programmatically, then briefly describe the issue you find.  **Make sure you include justifications for the methods you use for the assessment.**"
   ]
  },
  {
   "cell_type": "markdown",
   "metadata": {},
   "source": [
    "## 2.1 Completeness:\n",
    "#### **1.** Checking the first dataset (movies_first) visually via viewing the first 5 rows and another 5 random rows."
   ]
  },
  {
   "cell_type": "code",
   "execution_count": 93,
   "metadata": {},
   "outputs": [
    {
     "data": {
      "text/html": [
       "<div>\n",
       "<style scoped>\n",
       "    .dataframe tbody tr th:only-of-type {\n",
       "        vertical-align: middle;\n",
       "    }\n",
       "\n",
       "    .dataframe tbody tr th {\n",
       "        vertical-align: top;\n",
       "    }\n",
       "\n",
       "    .dataframe thead th {\n",
       "        text-align: right;\n",
       "    }\n",
       "</style>\n",
       "<table border=\"1\" class=\"dataframe\">\n",
       "  <thead>\n",
       "    <tr style=\"text-align: right;\">\n",
       "      <th></th>\n",
       "      <th>index</th>\n",
       "      <th>Title</th>\n",
       "      <th>Year</th>\n",
       "      <th>Summary</th>\n",
       "      <th>Short Summary</th>\n",
       "      <th>Genres</th>\n",
       "      <th>IMDB ID</th>\n",
       "      <th>Runtime</th>\n",
       "      <th>YouTube Trailer</th>\n",
       "      <th>Rating</th>\n",
       "      <th>Movie Poster</th>\n",
       "      <th>Director</th>\n",
       "      <th>Writers</th>\n",
       "      <th>Cast</th>\n",
       "    </tr>\n",
       "  </thead>\n",
       "  <tbody>\n",
       "    <tr>\n",
       "      <th>0</th>\n",
       "      <td>0</td>\n",
       "      <td>Patton Oswalt: Annihilation</td>\n",
       "      <td>2017</td>\n",
       "      <td>Patton Oswald, despite a personal tragedy, pro...</td>\n",
       "      <td>Patton Oswalt, despite a personal tragedy, pro...</td>\n",
       "      <td>Uncategorized</td>\n",
       "      <td>tt7026230</td>\n",
       "      <td>66</td>\n",
       "      <td>4hZi5QaMBFc</td>\n",
       "      <td>7.4</td>\n",
       "      <td>https://hydramovies.com/wp-content/uploads/201...</td>\n",
       "      <td>Bobcat Goldthwait</td>\n",
       "      <td>Patton Oswalt</td>\n",
       "      <td>Patton Oswalt</td>\n",
       "    </tr>\n",
       "    <tr>\n",
       "      <th>1</th>\n",
       "      <td>1</td>\n",
       "      <td>New York Doll</td>\n",
       "      <td>2005</td>\n",
       "      <td>A recovering alcoholic and recently converted ...</td>\n",
       "      <td>A recovering alcoholic and recently converted ...</td>\n",
       "      <td>Documentary|Music</td>\n",
       "      <td>tt0436629</td>\n",
       "      <td>75</td>\n",
       "      <td>jwD04NsnLLg</td>\n",
       "      <td>7.9</td>\n",
       "      <td>https://hydramovies.com/wp-content/uploads/201...</td>\n",
       "      <td>Greg Whiteley</td>\n",
       "      <td>Arthur Kane</td>\n",
       "      <td>Sylvain Sylvain</td>\n",
       "    </tr>\n",
       "    <tr>\n",
       "      <th>2</th>\n",
       "      <td>2</td>\n",
       "      <td>Mickey's Magical Christmas: Snowed in at the H...</td>\n",
       "      <td>2001</td>\n",
       "      <td>After everyone is snowed in at the House of Mo...</td>\n",
       "      <td>Mickey and all his friends hold their own Chri...</td>\n",
       "      <td>Adventure|Animation|Comedy|Family|Fantasy</td>\n",
       "      <td>tt0300195</td>\n",
       "      <td>65</td>\n",
       "      <td>uCKwHHftrU4</td>\n",
       "      <td>6.8</td>\n",
       "      <td>https://hydramovies.com/wp-content/uploads/201...</td>\n",
       "      <td>Tony Craig</td>\n",
       "      <td>Thomas Hart</td>\n",
       "      <td>Carlos Alazraqui|Wayne Allwine</td>\n",
       "    </tr>\n",
       "    <tr>\n",
       "      <th>3</th>\n",
       "      <td>3</td>\n",
       "      <td>Mickey's House of Villains</td>\n",
       "      <td>2001</td>\n",
       "      <td>The villains from the popular animated Disney ...</td>\n",
       "      <td>The villains from the popular animated Disney ...</td>\n",
       "      <td>Animation|Comedy|Family|Fantasy|Horror</td>\n",
       "      <td>tt0329374</td>\n",
       "      <td>0</td>\n",
       "      <td>JA03ciYt-Ek</td>\n",
       "      <td>6.6</td>\n",
       "      <td>https://hydramovies.com/wp-content/uploads/201...</td>\n",
       "      <td>Jamie Mitchell</td>\n",
       "      <td>Thomas Hart</td>\n",
       "      <td>Tony Anselmo|Wayne Allwine</td>\n",
       "    </tr>\n",
       "    <tr>\n",
       "      <th>4</th>\n",
       "      <td>4</td>\n",
       "      <td>And Then I Go</td>\n",
       "      <td>2017</td>\n",
       "      <td>In the cruel world of junior high, Edwin suffe...</td>\n",
       "      <td>In the cruel world of junior high, Edwin suffe...</td>\n",
       "      <td>Drama</td>\n",
       "      <td>tt2018111</td>\n",
       "      <td>99</td>\n",
       "      <td>8CdIiD6-iF0</td>\n",
       "      <td>7.6</td>\n",
       "      <td>https://hydramovies.com/wp-content/uploads/201...</td>\n",
       "      <td>Vincent Grashaw</td>\n",
       "      <td>Brett Haley</td>\n",
       "      <td>Arman Darbo|Sawyer Barth</td>\n",
       "    </tr>\n",
       "  </tbody>\n",
       "</table>\n",
       "</div>"
      ],
      "text/plain": [
       "   index                                              Title  Year  \\\n",
       "0      0                        Patton Oswalt: Annihilation  2017   \n",
       "1      1                                      New York Doll  2005   \n",
       "2      2  Mickey's Magical Christmas: Snowed in at the H...  2001   \n",
       "3      3                         Mickey's House of Villains  2001   \n",
       "4      4                                      And Then I Go  2017   \n",
       "\n",
       "                                             Summary  \\\n",
       "0  Patton Oswald, despite a personal tragedy, pro...   \n",
       "1  A recovering alcoholic and recently converted ...   \n",
       "2  After everyone is snowed in at the House of Mo...   \n",
       "3  The villains from the popular animated Disney ...   \n",
       "4  In the cruel world of junior high, Edwin suffe...   \n",
       "\n",
       "                                       Short Summary  \\\n",
       "0  Patton Oswalt, despite a personal tragedy, pro...   \n",
       "1  A recovering alcoholic and recently converted ...   \n",
       "2  Mickey and all his friends hold their own Chri...   \n",
       "3  The villains from the popular animated Disney ...   \n",
       "4  In the cruel world of junior high, Edwin suffe...   \n",
       "\n",
       "                                      Genres    IMDB ID  Runtime  \\\n",
       "0                              Uncategorized  tt7026230       66   \n",
       "1                          Documentary|Music  tt0436629       75   \n",
       "2  Adventure|Animation|Comedy|Family|Fantasy  tt0300195       65   \n",
       "3     Animation|Comedy|Family|Fantasy|Horror  tt0329374        0   \n",
       "4                                      Drama  tt2018111       99   \n",
       "\n",
       "  YouTube Trailer  Rating                                       Movie Poster  \\\n",
       "0     4hZi5QaMBFc     7.4  https://hydramovies.com/wp-content/uploads/201...   \n",
       "1     jwD04NsnLLg     7.9  https://hydramovies.com/wp-content/uploads/201...   \n",
       "2     uCKwHHftrU4     6.8  https://hydramovies.com/wp-content/uploads/201...   \n",
       "3     JA03ciYt-Ek     6.6  https://hydramovies.com/wp-content/uploads/201...   \n",
       "4     8CdIiD6-iF0     7.6  https://hydramovies.com/wp-content/uploads/201...   \n",
       "\n",
       "            Director        Writers                            Cast  \n",
       "0  Bobcat Goldthwait  Patton Oswalt                   Patton Oswalt  \n",
       "1      Greg Whiteley    Arthur Kane                 Sylvain Sylvain  \n",
       "2         Tony Craig    Thomas Hart  Carlos Alazraqui|Wayne Allwine  \n",
       "3     Jamie Mitchell    Thomas Hart      Tony Anselmo|Wayne Allwine  \n",
       "4    Vincent Grashaw    Brett Haley        Arman Darbo|Sawyer Barth  "
      ]
     },
     "execution_count": 93,
     "metadata": {},
     "output_type": "execute_result"
    }
   ],
   "source": [
    "movies_first.head()\n"
   ]
  },
  {
   "cell_type": "markdown",
   "metadata": {},
   "source": [
    "**Note:** We notice that there are null values in the Genre column represented as **Uncategorized** & runtime as **0**."
   ]
  },
  {
   "cell_type": "code",
   "execution_count": 94,
   "metadata": {},
   "outputs": [
    {
     "data": {
      "text/html": [
       "<div>\n",
       "<style scoped>\n",
       "    .dataframe tbody tr th:only-of-type {\n",
       "        vertical-align: middle;\n",
       "    }\n",
       "\n",
       "    .dataframe tbody tr th {\n",
       "        vertical-align: top;\n",
       "    }\n",
       "\n",
       "    .dataframe thead th {\n",
       "        text-align: right;\n",
       "    }\n",
       "</style>\n",
       "<table border=\"1\" class=\"dataframe\">\n",
       "  <thead>\n",
       "    <tr style=\"text-align: right;\">\n",
       "      <th></th>\n",
       "      <th>index</th>\n",
       "      <th>Title</th>\n",
       "      <th>Year</th>\n",
       "      <th>Summary</th>\n",
       "      <th>Short Summary</th>\n",
       "      <th>Genres</th>\n",
       "      <th>IMDB ID</th>\n",
       "      <th>Runtime</th>\n",
       "      <th>YouTube Trailer</th>\n",
       "      <th>Rating</th>\n",
       "      <th>Movie Poster</th>\n",
       "      <th>Director</th>\n",
       "      <th>Writers</th>\n",
       "      <th>Cast</th>\n",
       "    </tr>\n",
       "  </thead>\n",
       "  <tbody>\n",
       "    <tr>\n",
       "      <th>2307</th>\n",
       "      <td>2307</td>\n",
       "      <td>From Paris with Love</td>\n",
       "      <td>2010</td>\n",
       "      <td>James Reece is an ambitious aide to the U.S. A...</td>\n",
       "      <td>In Paris, a young employee in the office of th...</td>\n",
       "      <td>Action|Crime|Thriller</td>\n",
       "      <td>tt1179034</td>\n",
       "      <td>92</td>\n",
       "      <td>CDR4WLX7V-I</td>\n",
       "      <td>6.5</td>\n",
       "      <td>https://hydramovies.com/wp-content/uploads/201...</td>\n",
       "      <td>Pierre Morel</td>\n",
       "      <td>Adi Hasak</td>\n",
       "      <td>John Travolta|Jonathan Rhys Meyers|Kasia Smutniak</td>\n",
       "    </tr>\n",
       "    <tr>\n",
       "      <th>2672</th>\n",
       "      <td>2672</td>\n",
       "      <td>Arthur Christmas</td>\n",
       "      <td>2011</td>\n",
       "      <td>Arthur Christmas reveals the incredible, never...</td>\n",
       "      <td>Santa's clumsy son Arthur sets out on a missio...</td>\n",
       "      <td>Action|Adventure|Animation|Comedy|Drama</td>\n",
       "      <td>tt1430607</td>\n",
       "      <td>97</td>\n",
       "      <td>eMiyMkS1DNY</td>\n",
       "      <td>7.1</td>\n",
       "      <td>https://hydramovies.com/wp-content/uploads/201...</td>\n",
       "      <td>Sarah Smith</td>\n",
       "      <td>Peter Baynham</td>\n",
       "      <td>Bill Nighy|James McAvoy|Jim Broadbent</td>\n",
       "    </tr>\n",
       "    <tr>\n",
       "      <th>619</th>\n",
       "      <td>619</td>\n",
       "      <td>Café Society</td>\n",
       "      <td>2016</td>\n",
       "      <td>In 1930's Hollywood, the powerful agent, Phil ...</td>\n",
       "      <td>In the 1930s, a Bronx native moves to Hollywoo...</td>\n",
       "      <td>Action|Comedy|Drama|Romance</td>\n",
       "      <td>tt4513674</td>\n",
       "      <td>96</td>\n",
       "      <td>Rl4X6pFfmTI</td>\n",
       "      <td>6.6</td>\n",
       "      <td>https://hydramovies.com/wp-content/uploads/201...</td>\n",
       "      <td>Woody Allen</td>\n",
       "      <td>Woody Allen</td>\n",
       "      <td>Jesse Eisenberg|Kristen Stewart|Steve Carell</td>\n",
       "    </tr>\n",
       "    <tr>\n",
       "      <th>2031</th>\n",
       "      <td>2031</td>\n",
       "      <td>Life in a Day</td>\n",
       "      <td>2011</td>\n",
       "      <td>What do you get when you ask the people of the...</td>\n",
       "      <td>A documentary shot by film-makers all over the...</td>\n",
       "      <td>Documentary|Drama</td>\n",
       "      <td>tt1687247</td>\n",
       "      <td>95</td>\n",
       "      <td>bT_UmBHMYzg</td>\n",
       "      <td>7.7</td>\n",
       "      <td>https://hydramovies.com/wp-content/uploads/201...</td>\n",
       "      <td>Loressa Clisby</td>\n",
       "      <td>Hiroaki Aikawa</td>\n",
       "      <td>NaN</td>\n",
       "    </tr>\n",
       "    <tr>\n",
       "      <th>1141</th>\n",
       "      <td>1141</td>\n",
       "      <td>Unstoppable</td>\n",
       "      <td>2010</td>\n",
       "      <td>A runaway train carrying a cargo of toxic chem...</td>\n",
       "      <td>With an unmanned, half-mile-long freight train...</td>\n",
       "      <td>Action|Thriller</td>\n",
       "      <td>tt0477080</td>\n",
       "      <td>98</td>\n",
       "      <td>fyuoIqeL-bc</td>\n",
       "      <td>6.8</td>\n",
       "      <td>https://hydramovies.com/wp-content/uploads/201...</td>\n",
       "      <td>Tony Scott</td>\n",
       "      <td>Mark Bomback</td>\n",
       "      <td>Chris Pine|Denzel Washington|Rosario Dawson</td>\n",
       "    </tr>\n",
       "  </tbody>\n",
       "</table>\n",
       "</div>"
      ],
      "text/plain": [
       "      index                 Title  Year  \\\n",
       "2307   2307  From Paris with Love  2010   \n",
       "2672   2672      Arthur Christmas  2011   \n",
       "619     619          Café Society  2016   \n",
       "2031   2031         Life in a Day  2011   \n",
       "1141   1141           Unstoppable  2010   \n",
       "\n",
       "                                                Summary  \\\n",
       "2307  James Reece is an ambitious aide to the U.S. A...   \n",
       "2672  Arthur Christmas reveals the incredible, never...   \n",
       "619   In 1930's Hollywood, the powerful agent, Phil ...   \n",
       "2031  What do you get when you ask the people of the...   \n",
       "1141  A runaway train carrying a cargo of toxic chem...   \n",
       "\n",
       "                                          Short Summary  \\\n",
       "2307  In Paris, a young employee in the office of th...   \n",
       "2672  Santa's clumsy son Arthur sets out on a missio...   \n",
       "619   In the 1930s, a Bronx native moves to Hollywoo...   \n",
       "2031  A documentary shot by film-makers all over the...   \n",
       "1141  With an unmanned, half-mile-long freight train...   \n",
       "\n",
       "                                       Genres    IMDB ID  Runtime  \\\n",
       "2307                    Action|Crime|Thriller  tt1179034       92   \n",
       "2672  Action|Adventure|Animation|Comedy|Drama  tt1430607       97   \n",
       "619               Action|Comedy|Drama|Romance  tt4513674       96   \n",
       "2031                        Documentary|Drama  tt1687247       95   \n",
       "1141                          Action|Thriller  tt0477080       98   \n",
       "\n",
       "     YouTube Trailer  Rating  \\\n",
       "2307     CDR4WLX7V-I     6.5   \n",
       "2672     eMiyMkS1DNY     7.1   \n",
       "619      Rl4X6pFfmTI     6.6   \n",
       "2031     bT_UmBHMYzg     7.7   \n",
       "1141     fyuoIqeL-bc     6.8   \n",
       "\n",
       "                                           Movie Poster        Director  \\\n",
       "2307  https://hydramovies.com/wp-content/uploads/201...    Pierre Morel   \n",
       "2672  https://hydramovies.com/wp-content/uploads/201...     Sarah Smith   \n",
       "619   https://hydramovies.com/wp-content/uploads/201...     Woody Allen   \n",
       "2031  https://hydramovies.com/wp-content/uploads/201...  Loressa Clisby   \n",
       "1141  https://hydramovies.com/wp-content/uploads/201...      Tony Scott   \n",
       "\n",
       "             Writers                                               Cast  \n",
       "2307       Adi Hasak  John Travolta|Jonathan Rhys Meyers|Kasia Smutniak  \n",
       "2672   Peter Baynham              Bill Nighy|James McAvoy|Jim Broadbent  \n",
       "619      Woody Allen       Jesse Eisenberg|Kristen Stewart|Steve Carell  \n",
       "2031  Hiroaki Aikawa                                                NaN  \n",
       "1141    Mark Bomback        Chris Pine|Denzel Washington|Rosario Dawson  "
      ]
     },
     "execution_count": 94,
     "metadata": {},
     "output_type": "execute_result"
    }
   ],
   "source": [
    "# Randomly select 5 rows from the movies_first DataFrame\n",
    "# The random_state parameter ensures the same rows are selected every time for reproducibility\n",
    "movies_first.sample(5, random_state=41)"
   ]
  },
  {
   "cell_type": "markdown",
   "metadata": {},
   "source": [
    "**Note:** Cast column has null values too. We summarize that the Rating & Runtime column being the center of our study are the most important ones and it appears they have null values."
   ]
  },
  {
   "cell_type": "markdown",
   "metadata": {},
   "source": [
    "#### **2.** Checking the second dataset (movies) visually via viewing the first 5 rows and another 5 random rows."
   ]
  },
  {
   "cell_type": "code",
   "execution_count": 95,
   "metadata": {},
   "outputs": [
    {
     "data": {
      "text/html": [
       "<div>\n",
       "<style scoped>\n",
       "    .dataframe tbody tr th:only-of-type {\n",
       "        vertical-align: middle;\n",
       "    }\n",
       "\n",
       "    .dataframe tbody tr th {\n",
       "        vertical-align: top;\n",
       "    }\n",
       "\n",
       "    .dataframe thead th {\n",
       "        text-align: right;\n",
       "    }\n",
       "</style>\n",
       "<table border=\"1\" class=\"dataframe\">\n",
       "  <thead>\n",
       "    <tr style=\"text-align: right;\">\n",
       "      <th></th>\n",
       "      <th>Title</th>\n",
       "      <th>Rating</th>\n",
       "      <th>Genre</th>\n",
       "      <th>Runtime</th>\n",
       "    </tr>\n",
       "  </thead>\n",
       "  <tbody>\n",
       "    <tr>\n",
       "      <th>0</th>\n",
       "      <td>Le caviar rouge</td>\n",
       "      <td>4.1</td>\n",
       "      <td>Drama</td>\n",
       "      <td>92 min</td>\n",
       "    </tr>\n",
       "    <tr>\n",
       "      <th>1</th>\n",
       "      <td>The Octopuses from the Second Floor</td>\n",
       "      <td>6.9</td>\n",
       "      <td>Comedy, Family, Sci-Fi</td>\n",
       "      <td>92 min</td>\n",
       "    </tr>\n",
       "    <tr>\n",
       "      <th>2</th>\n",
       "      <td>Cocaine Wars</td>\n",
       "      <td>4.3</td>\n",
       "      <td>Action, Drama</td>\n",
       "      <td>82 min</td>\n",
       "    </tr>\n",
       "    <tr>\n",
       "      <th>3</th>\n",
       "      <td>Crossroads</td>\n",
       "      <td>7.1</td>\n",
       "      <td>Drama, Music, Mystery</td>\n",
       "      <td>99 min</td>\n",
       "    </tr>\n",
       "    <tr>\n",
       "      <th>4</th>\n",
       "      <td>A Deadly Business</td>\n",
       "      <td>5.9</td>\n",
       "      <td>Drama</td>\n",
       "      <td>96 min</td>\n",
       "    </tr>\n",
       "  </tbody>\n",
       "</table>\n",
       "</div>"
      ],
      "text/plain": [
       "                                 Title  Rating                   Genre Runtime\n",
       "0                      Le caviar rouge     4.1                   Drama  92 min\n",
       "1  The Octopuses from the Second Floor     6.9  Comedy, Family, Sci-Fi  92 min\n",
       "2                         Cocaine Wars     4.3           Action, Drama  82 min\n",
       "3                           Crossroads     7.1   Drama, Music, Mystery  99 min\n",
       "4                    A Deadly Business     5.9                   Drama  96 min"
      ]
     },
     "execution_count": 95,
     "metadata": {},
     "output_type": "execute_result"
    }
   ],
   "source": [
    "movies_sec.head()"
   ]
  },
  {
   "cell_type": "code",
   "execution_count": 96,
   "metadata": {},
   "outputs": [
    {
     "data": {
      "text/html": [
       "<div>\n",
       "<style scoped>\n",
       "    .dataframe tbody tr th:only-of-type {\n",
       "        vertical-align: middle;\n",
       "    }\n",
       "\n",
       "    .dataframe tbody tr th {\n",
       "        vertical-align: top;\n",
       "    }\n",
       "\n",
       "    .dataframe thead th {\n",
       "        text-align: right;\n",
       "    }\n",
       "</style>\n",
       "<table border=\"1\" class=\"dataframe\">\n",
       "  <thead>\n",
       "    <tr style=\"text-align: right;\">\n",
       "      <th></th>\n",
       "      <th>Title</th>\n",
       "      <th>Rating</th>\n",
       "      <th>Genre</th>\n",
       "      <th>Runtime</th>\n",
       "    </tr>\n",
       "  </thead>\n",
       "  <tbody>\n",
       "    <tr>\n",
       "      <th>201</th>\n",
       "      <td>Moonwalker</td>\n",
       "      <td>6.1</td>\n",
       "      <td>Action, Crime, Fantasy</td>\n",
       "      <td>93 min</td>\n",
       "    </tr>\n",
       "    <tr>\n",
       "      <th>213</th>\n",
       "      <td>Il caso Pupetta Maresca</td>\n",
       "      <td>NaN</td>\n",
       "      <td>Documentary</td>\n",
       "      <td>60 min</td>\n",
       "    </tr>\n",
       "    <tr>\n",
       "      <th>138</th>\n",
       "      <td>Three O'Clock High</td>\n",
       "      <td>7.1</td>\n",
       "      <td>Comedy</td>\n",
       "      <td>101 min</td>\n",
       "    </tr>\n",
       "    <tr>\n",
       "      <th>177</th>\n",
       "      <td>Einstweilen wird es Mittag oder Die Arbeitslos...</td>\n",
       "      <td>6.2</td>\n",
       "      <td>NaN</td>\n",
       "      <td>95 min</td>\n",
       "    </tr>\n",
       "    <tr>\n",
       "      <th>15</th>\n",
       "      <td>Hell High</td>\n",
       "      <td>5.1</td>\n",
       "      <td>Crime, Horror, Thriller</td>\n",
       "      <td>84 min</td>\n",
       "    </tr>\n",
       "  </tbody>\n",
       "</table>\n",
       "</div>"
      ],
      "text/plain": [
       "                                                 Title  Rating  \\\n",
       "201                                         Moonwalker     6.1   \n",
       "213                            Il caso Pupetta Maresca     NaN   \n",
       "138                                 Three O'Clock High     7.1   \n",
       "177  Einstweilen wird es Mittag oder Die Arbeitslos...     6.2   \n",
       "15                                           Hell High     5.1   \n",
       "\n",
       "                       Genre  Runtime  \n",
       "201   Action, Crime, Fantasy   93 min  \n",
       "213              Documentary   60 min  \n",
       "138                   Comedy  101 min  \n",
       "177                      NaN   95 min  \n",
       "15   Crime, Horror, Thriller   84 min  "
      ]
     },
     "execution_count": 96,
     "metadata": {},
     "output_type": "execute_result"
    }
   ],
   "source": [
    "movies_sec.sample(5, random_state=42)\n"
   ]
  },
  {
   "cell_type": "markdown",
   "metadata": {},
   "source": [
    "**Note:** Apparently this dataset has null values in Runtime, Genre, Rating columns too."
   ]
  },
  {
   "cell_type": "markdown",
   "metadata": {},
   "source": [
    "## 2.2 Inspecting the dataframe programmatically.\n",
    "\n",
    "\n",
    "#### **1.** Checking the first dataset (movies_first) programmatically.\n",
    "\n"
   ]
  },
  {
   "cell_type": "code",
   "execution_count": 97,
   "metadata": {},
   "outputs": [
    {
     "data": {
      "text/plain": [
       "(3940, 14)"
      ]
     },
     "execution_count": 97,
     "metadata": {},
     "output_type": "execute_result"
    }
   ],
   "source": [
    "movies_first.shape"
   ]
  },
  {
   "cell_type": "markdown",
   "metadata": {},
   "source": [
    "**Note:** This data has the complete number of rows as mentioned in Kaggle \"weighing in at an impressive 3,940 movies total\"."
   ]
  },
  {
   "cell_type": "code",
   "execution_count": 98,
   "metadata": {},
   "outputs": [
    {
     "data": {
      "text/plain": [
       "index               0\n",
       "Title               0\n",
       "Year                0\n",
       "Summary             5\n",
       "Short Summary       1\n",
       "Genres              0\n",
       "IMDB ID             0\n",
       "Runtime             0\n",
       "YouTube Trailer    47\n",
       "Rating              0\n",
       "Movie Poster        0\n",
       "Director            0\n",
       "Writers            18\n",
       "Cast               24\n",
       "dtype: int64"
      ]
     },
     "execution_count": 98,
     "metadata": {},
     "output_type": "execute_result"
    }
   ],
   "source": [
    "movies_first.isnull().sum()"
   ]
  },
  {
   "cell_type": "markdown",
   "metadata": {},
   "source": [
    "**Note:** As we focus on the Runtime, Rating columns this shows they do not have any null values which is invalid and leads us to the next quality issue."
   ]
  },
  {
   "cell_type": "code",
   "execution_count": 99,
   "metadata": {},
   "outputs": [
    {
     "data": {
      "text/plain": [
       "193"
      ]
     },
     "execution_count": 99,
     "metadata": {},
     "output_type": "execute_result"
    }
   ],
   "source": [
    "movies_first[movies_first['Runtime'] == 0 ].shape[0]"
   ]
  },
  {
   "cell_type": "markdown",
   "metadata": {},
   "source": [
    "**Note:** Rating column has empty records that need to be handled in the cleaning stage."
   ]
  },
  {
   "cell_type": "code",
   "execution_count": 100,
   "metadata": {},
   "outputs": [
    {
     "data": {
      "text/plain": [
       "0"
      ]
     },
     "execution_count": 100,
     "metadata": {},
     "output_type": "execute_result"
    }
   ],
   "source": [
    "movies_first[movies_first['Rating'] == 0 ].shape[0]"
   ]
  },
  {
   "cell_type": "markdown",
   "metadata": {},
   "source": [
    "**Note:** No null values in this column."
   ]
  },
  {
   "cell_type": "markdown",
   "metadata": {},
   "source": [
    "#### **2.** Checking the second dataset (movies_sec) programmatically."
   ]
  },
  {
   "cell_type": "code",
   "execution_count": 101,
   "metadata": {},
   "outputs": [
    {
     "data": {
      "text/plain": [
       "(216, 4)"
      ]
     },
     "execution_count": 101,
     "metadata": {},
     "output_type": "execute_result"
    }
   ],
   "source": [
    "movies_sec.shape"
   ]
  },
  {
   "cell_type": "markdown",
   "metadata": {},
   "source": [
    "**Note:** I have acquired 216 records via the API request which is true as saved into the csv file."
   ]
  },
  {
   "cell_type": "code",
   "execution_count": 102,
   "metadata": {},
   "outputs": [
    {
     "data": {
      "text/plain": [
       "Title       0\n",
       "Rating     30\n",
       "Genre      23\n",
       "Runtime    27\n",
       "dtype: int64"
      ]
     },
     "execution_count": 102,
     "metadata": {},
     "output_type": "execute_result"
    }
   ],
   "source": [
    "movies_sec.isnull().sum()"
   ]
  },
  {
   "cell_type": "markdown",
   "metadata": {},
   "source": [
    "**Note:** There is 30 null values in the Rating, 27 in Runtime columns and 23 on Genre columns."
   ]
  },
  {
   "cell_type": "code",
   "execution_count": 103,
   "metadata": {},
   "outputs": [
    {
     "data": {
      "text/plain": [
       "0"
      ]
     },
     "execution_count": 103,
     "metadata": {},
     "output_type": "execute_result"
    }
   ],
   "source": [
    "movies_sec[movies_sec['Runtime'] == 0 ].shape[0]"
   ]
  },
  {
   "cell_type": "markdown",
   "metadata": {},
   "source": [
    "**Note:** Both datasets contain null values which will be handled in the cleaning stage."
   ]
  },
  {
   "cell_type": "markdown",
   "metadata": {},
   "source": [
    "## 2.3 Validity\n",
    "\n",
    "Checking: **Misrepresented** null values and **erroneous data types.**\n",
    "\n",
    "\n",
    "#### **1.**  Visually & Programmatically for the First Dataset:\n",
    "\n"
   ]
  },
  {
   "cell_type": "code",
   "execution_count": 104,
   "metadata": {},
   "outputs": [
    {
     "data": {
      "text/html": [
       "<div>\n",
       "<style scoped>\n",
       "    .dataframe tbody tr th:only-of-type {\n",
       "        vertical-align: middle;\n",
       "    }\n",
       "\n",
       "    .dataframe tbody tr th {\n",
       "        vertical-align: top;\n",
       "    }\n",
       "\n",
       "    .dataframe thead th {\n",
       "        text-align: right;\n",
       "    }\n",
       "</style>\n",
       "<table border=\"1\" class=\"dataframe\">\n",
       "  <thead>\n",
       "    <tr style=\"text-align: right;\">\n",
       "      <th></th>\n",
       "      <th>index</th>\n",
       "      <th>Title</th>\n",
       "      <th>Year</th>\n",
       "      <th>Summary</th>\n",
       "      <th>Short Summary</th>\n",
       "      <th>Genres</th>\n",
       "      <th>IMDB ID</th>\n",
       "      <th>Runtime</th>\n",
       "      <th>YouTube Trailer</th>\n",
       "      <th>Rating</th>\n",
       "      <th>Movie Poster</th>\n",
       "      <th>Director</th>\n",
       "      <th>Writers</th>\n",
       "      <th>Cast</th>\n",
       "    </tr>\n",
       "  </thead>\n",
       "  <tbody>\n",
       "    <tr>\n",
       "      <th>0</th>\n",
       "      <td>0</td>\n",
       "      <td>Patton Oswalt: Annihilation</td>\n",
       "      <td>2017</td>\n",
       "      <td>Patton Oswald, despite a personal tragedy, pro...</td>\n",
       "      <td>Patton Oswalt, despite a personal tragedy, pro...</td>\n",
       "      <td>Uncategorized</td>\n",
       "      <td>tt7026230</td>\n",
       "      <td>66</td>\n",
       "      <td>4hZi5QaMBFc</td>\n",
       "      <td>7.4</td>\n",
       "      <td>https://hydramovies.com/wp-content/uploads/201...</td>\n",
       "      <td>Bobcat Goldthwait</td>\n",
       "      <td>Patton Oswalt</td>\n",
       "      <td>Patton Oswalt</td>\n",
       "    </tr>\n",
       "  </tbody>\n",
       "</table>\n",
       "</div>"
      ],
      "text/plain": [
       "   index                        Title  Year  \\\n",
       "0      0  Patton Oswalt: Annihilation  2017   \n",
       "\n",
       "                                             Summary  \\\n",
       "0  Patton Oswald, despite a personal tragedy, pro...   \n",
       "\n",
       "                                       Short Summary         Genres  \\\n",
       "0  Patton Oswalt, despite a personal tragedy, pro...  Uncategorized   \n",
       "\n",
       "     IMDB ID  Runtime YouTube Trailer  Rating  \\\n",
       "0  tt7026230       66     4hZi5QaMBFc     7.4   \n",
       "\n",
       "                                        Movie Poster           Director  \\\n",
       "0  https://hydramovies.com/wp-content/uploads/201...  Bobcat Goldthwait   \n",
       "\n",
       "         Writers           Cast  \n",
       "0  Patton Oswalt  Patton Oswalt  "
      ]
     },
     "execution_count": 104,
     "metadata": {},
     "output_type": "execute_result"
    }
   ],
   "source": [
    "movies_first.head(1)"
   ]
  },
  {
   "cell_type": "code",
   "execution_count": 105,
   "metadata": {},
   "outputs": [
    {
     "data": {
      "text/plain": [
       "index                int64\n",
       "Title               object\n",
       "Year                 int64\n",
       "Summary             object\n",
       "Short Summary       object\n",
       "Genres              object\n",
       "IMDB ID             object\n",
       "Runtime              int64\n",
       "YouTube Trailer     object\n",
       "Rating             float64\n",
       "Movie Poster        object\n",
       "Director            object\n",
       "Writers             object\n",
       "Cast                object\n",
       "dtype: object"
      ]
     },
     "execution_count": 105,
     "metadata": {},
     "output_type": "execute_result"
    }
   ],
   "source": [
    "movies_first.dtypes"
   ]
  },
  {
   "cell_type": "code",
   "execution_count": 106,
   "metadata": {},
   "outputs": [
    {
     "data": {
      "text/html": [
       "<div>\n",
       "<style scoped>\n",
       "    .dataframe tbody tr th:only-of-type {\n",
       "        vertical-align: middle;\n",
       "    }\n",
       "\n",
       "    .dataframe tbody tr th {\n",
       "        vertical-align: top;\n",
       "    }\n",
       "\n",
       "    .dataframe thead th {\n",
       "        text-align: right;\n",
       "    }\n",
       "</style>\n",
       "<table border=\"1\" class=\"dataframe\">\n",
       "  <thead>\n",
       "    <tr style=\"text-align: right;\">\n",
       "      <th></th>\n",
       "      <th>index</th>\n",
       "      <th>Year</th>\n",
       "      <th>Runtime</th>\n",
       "      <th>Rating</th>\n",
       "    </tr>\n",
       "  </thead>\n",
       "  <tbody>\n",
       "    <tr>\n",
       "      <th>count</th>\n",
       "      <td>3940.000000</td>\n",
       "      <td>3940.000000</td>\n",
       "      <td>3940.000000</td>\n",
       "      <td>3940.000000</td>\n",
       "    </tr>\n",
       "    <tr>\n",
       "      <th>mean</th>\n",
       "      <td>1969.500000</td>\n",
       "      <td>2012.132741</td>\n",
       "      <td>100.353553</td>\n",
       "      <td>6.555685</td>\n",
       "    </tr>\n",
       "    <tr>\n",
       "      <th>std</th>\n",
       "      <td>1137.524359</td>\n",
       "      <td>4.821189</td>\n",
       "      <td>29.798215</td>\n",
       "      <td>0.892572</td>\n",
       "    </tr>\n",
       "    <tr>\n",
       "      <th>min</th>\n",
       "      <td>0.000000</td>\n",
       "      <td>2000.000000</td>\n",
       "      <td>0.000000</td>\n",
       "      <td>1.700000</td>\n",
       "    </tr>\n",
       "    <tr>\n",
       "      <th>25%</th>\n",
       "      <td>984.750000</td>\n",
       "      <td>2009.000000</td>\n",
       "      <td>91.000000</td>\n",
       "      <td>6.100000</td>\n",
       "    </tr>\n",
       "    <tr>\n",
       "      <th>50%</th>\n",
       "      <td>1969.500000</td>\n",
       "      <td>2013.000000</td>\n",
       "      <td>102.000000</td>\n",
       "      <td>6.600000</td>\n",
       "    </tr>\n",
       "    <tr>\n",
       "      <th>75%</th>\n",
       "      <td>2954.250000</td>\n",
       "      <td>2016.000000</td>\n",
       "      <td>115.000000</td>\n",
       "      <td>7.100000</td>\n",
       "    </tr>\n",
       "    <tr>\n",
       "      <th>max</th>\n",
       "      <td>3939.000000</td>\n",
       "      <td>2018.000000</td>\n",
       "      <td>338.000000</td>\n",
       "      <td>9.500000</td>\n",
       "    </tr>\n",
       "  </tbody>\n",
       "</table>\n",
       "</div>"
      ],
      "text/plain": [
       "             index         Year      Runtime       Rating\n",
       "count  3940.000000  3940.000000  3940.000000  3940.000000\n",
       "mean   1969.500000  2012.132741   100.353553     6.555685\n",
       "std    1137.524359     4.821189    29.798215     0.892572\n",
       "min       0.000000  2000.000000     0.000000     1.700000\n",
       "25%     984.750000  2009.000000    91.000000     6.100000\n",
       "50%    1969.500000  2013.000000   102.000000     6.600000\n",
       "75%    2954.250000  2016.000000   115.000000     7.100000\n",
       "max    3939.000000  2018.000000   338.000000     9.500000"
      ]
     },
     "execution_count": 106,
     "metadata": {},
     "output_type": "execute_result"
    }
   ],
   "source": [
    "movies_first.describe()"
   ]
  },
  {
   "cell_type": "markdown",
   "metadata": {},
   "source": [
    "Since **Year** min: 2000 and max: 2018, it can be enhanced into **int16**.\n",
    "\n",
    "Also, for **Runtime** having min: 0 max: 338, it can be enhnaced into **int16** thus eliminating the seconds.\n",
    "\n",
    "same goes for **Rating** having min: 1.7 max: 9.5 it can be enhnaced into **float16**."
   ]
  },
  {
   "cell_type": "code",
   "execution_count": 107,
   "metadata": {},
   "outputs": [
    {
     "data": {
      "text/plain": [
       "25"
      ]
     },
     "execution_count": 107,
     "metadata": {},
     "output_type": "execute_result"
    }
   ],
   "source": [
    "movies_first[movies_first['Genres'] == 'Uncategorized' ].shape[0]"
   ]
  },
  {
   "cell_type": "markdown",
   "metadata": {},
   "source": [
    "**Note:** There are 25 movies labelled as 'Uncategorized' instead of NaN."
   ]
  },
  {
   "cell_type": "code",
   "execution_count": 108,
   "metadata": {},
   "outputs": [
    {
     "data": {
      "text/plain": [
       "193"
      ]
     },
     "execution_count": 108,
     "metadata": {},
     "output_type": "execute_result"
    }
   ],
   "source": [
    "movies_first[movies_first['Runtime'] == 0 ].shape[0]"
   ]
  },
  {
   "cell_type": "markdown",
   "metadata": {},
   "source": [
    "**Note:** There are 193 movies with the value of 0 instead of NaN.\n",
    "\n",
    "As the misrepresented data leads to unusable data so both issues this and erroneous data types will be handled in the cleaning stage."
   ]
  },
  {
   "cell_type": "markdown",
   "metadata": {},
   "source": [
    "#### **1.**  Visually & Programmatically for the Second Dataset:\n"
   ]
  },
  {
   "cell_type": "code",
   "execution_count": 109,
   "metadata": {},
   "outputs": [
    {
     "data": {
      "text/html": [
       "<div>\n",
       "<style scoped>\n",
       "    .dataframe tbody tr th:only-of-type {\n",
       "        vertical-align: middle;\n",
       "    }\n",
       "\n",
       "    .dataframe tbody tr th {\n",
       "        vertical-align: top;\n",
       "    }\n",
       "\n",
       "    .dataframe thead th {\n",
       "        text-align: right;\n",
       "    }\n",
       "</style>\n",
       "<table border=\"1\" class=\"dataframe\">\n",
       "  <thead>\n",
       "    <tr style=\"text-align: right;\">\n",
       "      <th></th>\n",
       "      <th>Title</th>\n",
       "      <th>Rating</th>\n",
       "      <th>Genre</th>\n",
       "      <th>Runtime</th>\n",
       "    </tr>\n",
       "  </thead>\n",
       "  <tbody>\n",
       "    <tr>\n",
       "      <th>0</th>\n",
       "      <td>Le caviar rouge</td>\n",
       "      <td>4.1</td>\n",
       "      <td>Drama</td>\n",
       "      <td>92 min</td>\n",
       "    </tr>\n",
       "  </tbody>\n",
       "</table>\n",
       "</div>"
      ],
      "text/plain": [
       "             Title  Rating  Genre Runtime\n",
       "0  Le caviar rouge     4.1  Drama  92 min"
      ]
     },
     "execution_count": 109,
     "metadata": {},
     "output_type": "execute_result"
    }
   ],
   "source": [
    "movies_sec.head(1)"
   ]
  },
  {
   "cell_type": "code",
   "execution_count": 110,
   "metadata": {},
   "outputs": [
    {
     "data": {
      "text/plain": [
       "Title       object\n",
       "Rating     float64\n",
       "Genre       object\n",
       "Runtime     object\n",
       "dtype: object"
      ]
     },
     "execution_count": 110,
     "metadata": {},
     "output_type": "execute_result"
    }
   ],
   "source": [
    "movies_sec.dtypes"
   ]
  },
  {
   "cell_type": "code",
   "execution_count": 111,
   "metadata": {},
   "outputs": [
    {
     "data": {
      "text/html": [
       "<div>\n",
       "<style scoped>\n",
       "    .dataframe tbody tr th:only-of-type {\n",
       "        vertical-align: middle;\n",
       "    }\n",
       "\n",
       "    .dataframe tbody tr th {\n",
       "        vertical-align: top;\n",
       "    }\n",
       "\n",
       "    .dataframe thead th {\n",
       "        text-align: right;\n",
       "    }\n",
       "</style>\n",
       "<table border=\"1\" class=\"dataframe\">\n",
       "  <thead>\n",
       "    <tr style=\"text-align: right;\">\n",
       "      <th></th>\n",
       "      <th>Rating</th>\n",
       "    </tr>\n",
       "  </thead>\n",
       "  <tbody>\n",
       "    <tr>\n",
       "      <th>count</th>\n",
       "      <td>186.000000</td>\n",
       "    </tr>\n",
       "    <tr>\n",
       "      <th>mean</th>\n",
       "      <td>5.909140</td>\n",
       "    </tr>\n",
       "    <tr>\n",
       "      <th>std</th>\n",
       "      <td>1.357252</td>\n",
       "    </tr>\n",
       "    <tr>\n",
       "      <th>min</th>\n",
       "      <td>2.000000</td>\n",
       "    </tr>\n",
       "    <tr>\n",
       "      <th>25%</th>\n",
       "      <td>5.000000</td>\n",
       "    </tr>\n",
       "    <tr>\n",
       "      <th>50%</th>\n",
       "      <td>6.050000</td>\n",
       "    </tr>\n",
       "    <tr>\n",
       "      <th>75%</th>\n",
       "      <td>6.900000</td>\n",
       "    </tr>\n",
       "    <tr>\n",
       "      <th>max</th>\n",
       "      <td>8.800000</td>\n",
       "    </tr>\n",
       "  </tbody>\n",
       "</table>\n",
       "</div>"
      ],
      "text/plain": [
       "           Rating\n",
       "count  186.000000\n",
       "mean     5.909140\n",
       "std      1.357252\n",
       "min      2.000000\n",
       "25%      5.000000\n",
       "50%      6.050000\n",
       "75%      6.900000\n",
       "max      8.800000"
      ]
     },
     "execution_count": 111,
     "metadata": {},
     "output_type": "execute_result"
    }
   ],
   "source": [
    "movies_sec.describe()"
   ]
  },
  {
   "cell_type": "markdown",
   "metadata": {},
   "source": [
    "**Rating** seems to be normally distributed with min: 2 max: 8.8 thus it can be enhanced into **float16**.\n",
    "\n",
    "**Runtime** should be stored into a **int16** rather than object which makes it managable and benefecial for the study focus and more consistent with the first dataset."
   ]
  },
  {
   "cell_type": "markdown",
   "metadata": {},
   "source": [
    "## 2.4 Consistency\n"
   ]
  },
  {
   "cell_type": "code",
   "execution_count": 112,
   "metadata": {},
   "outputs": [
    {
     "data": {
      "text/plain": [
       "'Documentary|Music'"
      ]
     },
     "execution_count": 112,
     "metadata": {},
     "output_type": "execute_result"
    }
   ],
   "source": [
    "movies_first.Genres[1]"
   ]
  },
  {
   "cell_type": "code",
   "execution_count": 113,
   "metadata": {},
   "outputs": [
    {
     "data": {
      "text/plain": [
       "'Comedy, Family, Sci-Fi'"
      ]
     },
     "execution_count": 113,
     "metadata": {},
     "output_type": "execute_result"
    }
   ],
   "source": [
    "movies_sec.Genre[1]"
   ]
  },
  {
   "cell_type": "markdown",
   "metadata": {},
   "source": [
    "We notice that Genres are **separated by a comma in the second dataset** while the **first is separated by a vertical bar, which is onconsistent**.\n",
    "\n",
    "Moreover, the **Genre column names are the only inconsistent** ones betweent the two datasets."
   ]
  },
  {
   "cell_type": "markdown",
   "metadata": {},
   "source": [
    "## 2.4 Uniqueness\n",
    "\n",
    "#### For the first Dataset:\n"
   ]
  },
  {
   "cell_type": "code",
   "execution_count": 114,
   "metadata": {},
   "outputs": [
    {
     "name": "stdout",
     "output_type": "stream",
     "text": [
      "Title\n",
      "The Gift           2\n",
      "Fantastic Four     2\n",
      "Gifted             2\n",
      "The Colony         2\n",
      "Frozen             2\n",
      "Wonder Woman       2\n",
      "Gold               2\n",
      "Life               2\n",
      "The Outsider       2\n",
      "Youth              2\n",
      "Restless           2\n",
      "Extinction         2\n",
      "Beyond the Edge    2\n",
      "Name: count, dtype: int64\n"
     ]
    }
   ],
   "source": [
    "duplicate_counts = movies_first['Title'].value_counts()[movies_first['Title'].value_counts() > 1]\n",
    "print(duplicate_counts)"
   ]
  },
  {
   "cell_type": "code",
   "execution_count": 115,
   "metadata": {},
   "outputs": [],
   "source": [
    "# Identify duplicate rows based on the 'Title' column\n",
    "duplicates = movies_first[movies_first.duplicated('Title', keep=False)]\n",
    "duplicates_df = pd.DataFrame(duplicates)"
   ]
  },
  {
   "cell_type": "code",
   "execution_count": 116,
   "metadata": {},
   "outputs": [
    {
     "data": {
      "text/plain": [
       "26"
      ]
     },
     "execution_count": 116,
     "metadata": {},
     "output_type": "execute_result"
    }
   ],
   "source": [
    "duplicates_df.shape[0]"
   ]
  },
  {
   "cell_type": "markdown",
   "metadata": {},
   "source": [
    "**Note:** There are 13 movies that are duplicated!"
   ]
  },
  {
   "cell_type": "code",
   "execution_count": 117,
   "metadata": {
    "scrolled": true
   },
   "outputs": [
    {
     "data": {
      "text/html": [
       "<div>\n",
       "<style scoped>\n",
       "    .dataframe tbody tr th:only-of-type {\n",
       "        vertical-align: middle;\n",
       "    }\n",
       "\n",
       "    .dataframe tbody tr th {\n",
       "        vertical-align: top;\n",
       "    }\n",
       "\n",
       "    .dataframe thead th {\n",
       "        text-align: right;\n",
       "    }\n",
       "</style>\n",
       "<table border=\"1\" class=\"dataframe\">\n",
       "  <thead>\n",
       "    <tr style=\"text-align: right;\">\n",
       "      <th></th>\n",
       "      <th>index</th>\n",
       "      <th>Title</th>\n",
       "      <th>Year</th>\n",
       "      <th>Summary</th>\n",
       "      <th>Short Summary</th>\n",
       "      <th>Genres</th>\n",
       "      <th>IMDB ID</th>\n",
       "      <th>Runtime</th>\n",
       "      <th>YouTube Trailer</th>\n",
       "      <th>Rating</th>\n",
       "      <th>Movie Poster</th>\n",
       "      <th>Director</th>\n",
       "      <th>Writers</th>\n",
       "      <th>Cast</th>\n",
       "    </tr>\n",
       "  </thead>\n",
       "  <tbody>\n",
       "    <tr>\n",
       "      <th>2303</th>\n",
       "      <td>2303</td>\n",
       "      <td>Frozen</td>\n",
       "      <td>2013</td>\n",
       "      <td>Fearless optimist Anna teams up with rugged mo...</td>\n",
       "      <td>When the newly-crowned Queen Elsa accidentally...</td>\n",
       "      <td>Action|Adventure|Animation|Comedy|Family</td>\n",
       "      <td>tt2294629</td>\n",
       "      <td>102</td>\n",
       "      <td>FLzfXQSPBOg</td>\n",
       "      <td>7.5</td>\n",
       "      <td>https://hydramovies.com/wp-content/uploads/201...</td>\n",
       "      <td>Chris Buck</td>\n",
       "      <td>Jennifer Lee</td>\n",
       "      <td>Idina Menzel|Kristen Bell</td>\n",
       "    </tr>\n",
       "    <tr>\n",
       "      <th>2304</th>\n",
       "      <td>2304</td>\n",
       "      <td>Frozen</td>\n",
       "      <td>2010</td>\n",
       "      <td>At Mount Holliston, snowboarders Dan Walker, h...</td>\n",
       "      <td>Three skiers stranded on a chairlift are force...</td>\n",
       "      <td>Action|Drama|Thriller</td>\n",
       "      <td>tt1323045</td>\n",
       "      <td>93</td>\n",
       "      <td>7Wmro5jBViA</td>\n",
       "      <td>6.2</td>\n",
       "      <td>https://hydramovies.com/wp-content/uploads/201...</td>\n",
       "      <td>Adam Green</td>\n",
       "      <td>Adam Green</td>\n",
       "      <td>Emma Bell|Kevin Zegers|Shawn Ashmore</td>\n",
       "    </tr>\n",
       "  </tbody>\n",
       "</table>\n",
       "</div>"
      ],
      "text/plain": [
       "      index   Title  Year                                            Summary  \\\n",
       "2303   2303  Frozen  2013  Fearless optimist Anna teams up with rugged mo...   \n",
       "2304   2304  Frozen  2010  At Mount Holliston, snowboarders Dan Walker, h...   \n",
       "\n",
       "                                          Short Summary  \\\n",
       "2303  When the newly-crowned Queen Elsa accidentally...   \n",
       "2304  Three skiers stranded on a chairlift are force...   \n",
       "\n",
       "                                        Genres    IMDB ID  Runtime  \\\n",
       "2303  Action|Adventure|Animation|Comedy|Family  tt2294629      102   \n",
       "2304                     Action|Drama|Thriller  tt1323045       93   \n",
       "\n",
       "     YouTube Trailer  Rating  \\\n",
       "2303     FLzfXQSPBOg     7.5   \n",
       "2304     7Wmro5jBViA     6.2   \n",
       "\n",
       "                                           Movie Poster    Director  \\\n",
       "2303  https://hydramovies.com/wp-content/uploads/201...  Chris Buck   \n",
       "2304  https://hydramovies.com/wp-content/uploads/201...  Adam Green   \n",
       "\n",
       "           Writers                                  Cast  \n",
       "2303  Jennifer Lee             Idina Menzel|Kristen Bell  \n",
       "2304    Adam Green  Emma Bell|Kevin Zegers|Shawn Ashmore  "
      ]
     },
     "execution_count": 117,
     "metadata": {},
     "output_type": "execute_result"
    }
   ],
   "source": [
    "duplicates_df[duplicates_df['Title'] == 'Frozen']"
   ]
  },
  {
   "cell_type": "markdown",
   "metadata": {},
   "source": [
    "if we take any duplicate i.e: Wonder Woman or Frozen we notice that the records are **mostly different**, it's hard to determine which is right which leads to **cross checking if the same movies are in the other dataset or dropping them to get more valid & accurate results for our study**.\n",
    "\n"
   ]
  },
  {
   "cell_type": "markdown",
   "metadata": {},
   "source": [
    "For the Second Dataset:\n"
   ]
  },
  {
   "cell_type": "code",
   "execution_count": 118,
   "metadata": {},
   "outputs": [
    {
     "name": "stdout",
     "output_type": "stream",
     "text": [
      "Title\n",
      "#DUPE#    6\n",
      "Name: count, dtype: int64\n"
     ]
    }
   ],
   "source": [
    "duplicate_counts2 = movies_sec['Title'].value_counts()[movies_sec['Title'].value_counts() > 1]\n",
    "print(duplicate_counts2)"
   ]
  },
  {
   "cell_type": "code",
   "execution_count": 119,
   "metadata": {},
   "outputs": [],
   "source": [
    "# Identify duplicate rows based on the 'Title' column\n",
    "duplicates2 = movies_sec[movies_sec.duplicated('Title', keep=False)]\n",
    "duplicates_df2 = pd.DataFrame(duplicates)"
   ]
  },
  {
   "cell_type": "code",
   "execution_count": 120,
   "metadata": {},
   "outputs": [
    {
     "data": {
      "text/html": [
       "<div>\n",
       "<style scoped>\n",
       "    .dataframe tbody tr th:only-of-type {\n",
       "        vertical-align: middle;\n",
       "    }\n",
       "\n",
       "    .dataframe tbody tr th {\n",
       "        vertical-align: top;\n",
       "    }\n",
       "\n",
       "    .dataframe thead th {\n",
       "        text-align: right;\n",
       "    }\n",
       "</style>\n",
       "<table border=\"1\" class=\"dataframe\">\n",
       "  <thead>\n",
       "    <tr style=\"text-align: right;\">\n",
       "      <th></th>\n",
       "      <th>index</th>\n",
       "      <th>Title</th>\n",
       "      <th>Year</th>\n",
       "      <th>Summary</th>\n",
       "      <th>Short Summary</th>\n",
       "      <th>Genres</th>\n",
       "      <th>IMDB ID</th>\n",
       "      <th>Runtime</th>\n",
       "      <th>YouTube Trailer</th>\n",
       "      <th>Rating</th>\n",
       "      <th>Movie Poster</th>\n",
       "      <th>Director</th>\n",
       "      <th>Writers</th>\n",
       "      <th>Cast</th>\n",
       "    </tr>\n",
       "  </thead>\n",
       "  <tbody>\n",
       "  </tbody>\n",
       "</table>\n",
       "</div>"
      ],
      "text/plain": [
       "Empty DataFrame\n",
       "Columns: [index, Title, Year, Summary, Short Summary, Genres, IMDB ID, Runtime, YouTube Trailer, Rating, Movie Poster, Director, Writers, Cast]\n",
       "Index: []"
      ]
     },
     "execution_count": 120,
     "metadata": {},
     "output_type": "execute_result"
    }
   ],
   "source": [
    "duplicates_df2[duplicates_df2['Title'] == '#DUPE#']"
   ]
  },
  {
   "cell_type": "markdown",
   "metadata": {},
   "source": [
    "**Note:** In this dataset we notice that there are duplicates yet they're all identical so we can drop the copy.\n",
    "\n"
   ]
  },
  {
   "cell_type": "markdown",
   "metadata": {
    "id": "lXhGiYyiwwKN"
   },
   "source": [
    "### Tidiness Issue 1:"
   ]
  },
  {
   "cell_type": "markdown",
   "metadata": {},
   "source": [
    "### a. Inspecting The First Dataset:"
   ]
  },
  {
   "cell_type": "code",
   "execution_count": 121,
   "metadata": {
    "id": "fleC5rORI0Xl"
   },
   "outputs": [
    {
     "data": {
      "text/html": [
       "<div>\n",
       "<style scoped>\n",
       "    .dataframe tbody tr th:only-of-type {\n",
       "        vertical-align: middle;\n",
       "    }\n",
       "\n",
       "    .dataframe tbody tr th {\n",
       "        vertical-align: top;\n",
       "    }\n",
       "\n",
       "    .dataframe thead th {\n",
       "        text-align: right;\n",
       "    }\n",
       "</style>\n",
       "<table border=\"1\" class=\"dataframe\">\n",
       "  <thead>\n",
       "    <tr style=\"text-align: right;\">\n",
       "      <th></th>\n",
       "      <th>index</th>\n",
       "      <th>Title</th>\n",
       "      <th>Year</th>\n",
       "      <th>Summary</th>\n",
       "      <th>Short Summary</th>\n",
       "      <th>Genres</th>\n",
       "      <th>IMDB ID</th>\n",
       "      <th>Runtime</th>\n",
       "      <th>YouTube Trailer</th>\n",
       "      <th>Rating</th>\n",
       "      <th>Movie Poster</th>\n",
       "      <th>Director</th>\n",
       "      <th>Writers</th>\n",
       "      <th>Cast</th>\n",
       "    </tr>\n",
       "  </thead>\n",
       "  <tbody>\n",
       "    <tr>\n",
       "      <th>0</th>\n",
       "      <td>0</td>\n",
       "      <td>Patton Oswalt: Annihilation</td>\n",
       "      <td>2017</td>\n",
       "      <td>Patton Oswald, despite a personal tragedy, pro...</td>\n",
       "      <td>Patton Oswalt, despite a personal tragedy, pro...</td>\n",
       "      <td>Uncategorized</td>\n",
       "      <td>tt7026230</td>\n",
       "      <td>66</td>\n",
       "      <td>4hZi5QaMBFc</td>\n",
       "      <td>7.4</td>\n",
       "      <td>https://hydramovies.com/wp-content/uploads/201...</td>\n",
       "      <td>Bobcat Goldthwait</td>\n",
       "      <td>Patton Oswalt</td>\n",
       "      <td>Patton Oswalt</td>\n",
       "    </tr>\n",
       "    <tr>\n",
       "      <th>1</th>\n",
       "      <td>1</td>\n",
       "      <td>New York Doll</td>\n",
       "      <td>2005</td>\n",
       "      <td>A recovering alcoholic and recently converted ...</td>\n",
       "      <td>A recovering alcoholic and recently converted ...</td>\n",
       "      <td>Documentary|Music</td>\n",
       "      <td>tt0436629</td>\n",
       "      <td>75</td>\n",
       "      <td>jwD04NsnLLg</td>\n",
       "      <td>7.9</td>\n",
       "      <td>https://hydramovies.com/wp-content/uploads/201...</td>\n",
       "      <td>Greg Whiteley</td>\n",
       "      <td>Arthur Kane</td>\n",
       "      <td>Sylvain Sylvain</td>\n",
       "    </tr>\n",
       "  </tbody>\n",
       "</table>\n",
       "</div>"
      ],
      "text/plain": [
       "   index                        Title  Year  \\\n",
       "0      0  Patton Oswalt: Annihilation  2017   \n",
       "1      1                New York Doll  2005   \n",
       "\n",
       "                                             Summary  \\\n",
       "0  Patton Oswald, despite a personal tragedy, pro...   \n",
       "1  A recovering alcoholic and recently converted ...   \n",
       "\n",
       "                                       Short Summary             Genres  \\\n",
       "0  Patton Oswalt, despite a personal tragedy, pro...      Uncategorized   \n",
       "1  A recovering alcoholic and recently converted ...  Documentary|Music   \n",
       "\n",
       "     IMDB ID  Runtime YouTube Trailer  Rating  \\\n",
       "0  tt7026230       66     4hZi5QaMBFc     7.4   \n",
       "1  tt0436629       75     jwD04NsnLLg     7.9   \n",
       "\n",
       "                                        Movie Poster           Director  \\\n",
       "0  https://hydramovies.com/wp-content/uploads/201...  Bobcat Goldthwait   \n",
       "1  https://hydramovies.com/wp-content/uploads/201...      Greg Whiteley   \n",
       "\n",
       "         Writers             Cast  \n",
       "0  Patton Oswalt    Patton Oswalt  \n",
       "1    Arthur Kane  Sylvain Sylvain  "
      ]
     },
     "execution_count": 121,
     "metadata": {},
     "output_type": "execute_result"
    }
   ],
   "source": [
    "movies_first.head(2)"
   ]
  },
  {
   "cell_type": "markdown",
   "metadata": {
    "id": "BTuQw7Rbsio4"
   },
   "source": [
    "There are multiple values in the **Genres column**, should be separated or if not needed dropped same goes for **Summary and Short Summary** which aren't needed in our study."
   ]
  },
  {
   "cell_type": "markdown",
   "metadata": {},
   "source": [
    "### b. Inspecting The Second Dataset:"
   ]
  },
  {
   "cell_type": "code",
   "execution_count": 122,
   "metadata": {},
   "outputs": [
    {
     "data": {
      "text/html": [
       "<div>\n",
       "<style scoped>\n",
       "    .dataframe tbody tr th:only-of-type {\n",
       "        vertical-align: middle;\n",
       "    }\n",
       "\n",
       "    .dataframe tbody tr th {\n",
       "        vertical-align: top;\n",
       "    }\n",
       "\n",
       "    .dataframe thead th {\n",
       "        text-align: right;\n",
       "    }\n",
       "</style>\n",
       "<table border=\"1\" class=\"dataframe\">\n",
       "  <thead>\n",
       "    <tr style=\"text-align: right;\">\n",
       "      <th></th>\n",
       "      <th>Title</th>\n",
       "      <th>Rating</th>\n",
       "      <th>Genre</th>\n",
       "      <th>Runtime</th>\n",
       "    </tr>\n",
       "  </thead>\n",
       "  <tbody>\n",
       "    <tr>\n",
       "      <th>0</th>\n",
       "      <td>Le caviar rouge</td>\n",
       "      <td>4.1</td>\n",
       "      <td>Drama</td>\n",
       "      <td>92 min</td>\n",
       "    </tr>\n",
       "    <tr>\n",
       "      <th>1</th>\n",
       "      <td>The Octopuses from the Second Floor</td>\n",
       "      <td>6.9</td>\n",
       "      <td>Comedy, Family, Sci-Fi</td>\n",
       "      <td>92 min</td>\n",
       "    </tr>\n",
       "  </tbody>\n",
       "</table>\n",
       "</div>"
      ],
      "text/plain": [
       "                                 Title  Rating                   Genre Runtime\n",
       "0                      Le caviar rouge     4.1                   Drama  92 min\n",
       "1  The Octopuses from the Second Floor     6.9  Comedy, Family, Sci-Fi  92 min"
      ]
     },
     "execution_count": 122,
     "metadata": {},
     "output_type": "execute_result"
    }
   ],
   "source": [
    "movies_sec.head(2)"
   ]
  },
  {
   "cell_type": "markdown",
   "metadata": {},
   "source": [
    "There are multiple values in the **Genre column**, should be separated or if not needed dropped"
   ]
  },
  {
   "cell_type": "markdown",
   "metadata": {
    "id": "4ffMoRGSwzYj"
   },
   "source": [
    "### Tidiness Issue 2: "
   ]
  },
  {
   "cell_type": "code",
   "execution_count": 123,
   "metadata": {
    "id": "XUpeoqokw5Qt"
   },
   "outputs": [
    {
     "data": {
      "text/plain": [
       "Runtime\n",
       "90 min        14\n",
       "92 min         7\n",
       "88 min         7\n",
       "95 min         7\n",
       "86 min         7\n",
       "              ..\n",
       "5 min          1\n",
       "65 min         1\n",
       "44 min         1\n",
       "52 min         1\n",
       "1 h 15 min     1\n",
       "Name: count, Length: 66, dtype: int64"
      ]
     },
     "execution_count": 123,
     "metadata": {},
     "output_type": "execute_result"
    }
   ],
   "source": [
    "movies_sec.Runtime.value_counts()"
   ]
  },
  {
   "cell_type": "markdown",
   "metadata": {
    "id": "c8JK4DoXxtFA"
   },
   "source": [
    "**Runtime** has the min as a measurement unit with each value which should be reomved. There are values i.e: 1 h 15 min take hour as a representation instead of only using minutes to ensure consistency and validity."
   ]
  },
  {
   "cell_type": "markdown",
   "metadata": {
    "id": "D6gmLnBttpCh"
   },
   "source": [
    "## 3. Clean data"
   ]
  },
  {
   "cell_type": "markdown",
   "metadata": {},
   "source": [
    "### Copying the DataFrames.\n"
   ]
  },
  {
   "cell_type": "code",
   "execution_count": 124,
   "metadata": {},
   "outputs": [
    {
     "data": {
      "text/html": [
       "<div>\n",
       "<style scoped>\n",
       "    .dataframe tbody tr th:only-of-type {\n",
       "        vertical-align: middle;\n",
       "    }\n",
       "\n",
       "    .dataframe tbody tr th {\n",
       "        vertical-align: top;\n",
       "    }\n",
       "\n",
       "    .dataframe thead th {\n",
       "        text-align: right;\n",
       "    }\n",
       "</style>\n",
       "<table border=\"1\" class=\"dataframe\">\n",
       "  <thead>\n",
       "    <tr style=\"text-align: right;\">\n",
       "      <th></th>\n",
       "      <th>index</th>\n",
       "      <th>Title</th>\n",
       "      <th>Year</th>\n",
       "      <th>Summary</th>\n",
       "      <th>Short Summary</th>\n",
       "      <th>Genres</th>\n",
       "      <th>IMDB ID</th>\n",
       "      <th>Runtime</th>\n",
       "      <th>YouTube Trailer</th>\n",
       "      <th>Rating</th>\n",
       "      <th>Movie Poster</th>\n",
       "      <th>Director</th>\n",
       "      <th>Writers</th>\n",
       "      <th>Cast</th>\n",
       "    </tr>\n",
       "  </thead>\n",
       "  <tbody>\n",
       "    <tr>\n",
       "      <th>0</th>\n",
       "      <td>0</td>\n",
       "      <td>Patton Oswalt: Annihilation</td>\n",
       "      <td>2017</td>\n",
       "      <td>Patton Oswald, despite a personal tragedy, pro...</td>\n",
       "      <td>Patton Oswalt, despite a personal tragedy, pro...</td>\n",
       "      <td>Uncategorized</td>\n",
       "      <td>tt7026230</td>\n",
       "      <td>66</td>\n",
       "      <td>4hZi5QaMBFc</td>\n",
       "      <td>7.4</td>\n",
       "      <td>https://hydramovies.com/wp-content/uploads/201...</td>\n",
       "      <td>Bobcat Goldthwait</td>\n",
       "      <td>Patton Oswalt</td>\n",
       "      <td>Patton Oswalt</td>\n",
       "    </tr>\n",
       "  </tbody>\n",
       "</table>\n",
       "</div>"
      ],
      "text/plain": [
       "   index                        Title  Year  \\\n",
       "0      0  Patton Oswalt: Annihilation  2017   \n",
       "\n",
       "                                             Summary  \\\n",
       "0  Patton Oswald, despite a personal tragedy, pro...   \n",
       "\n",
       "                                       Short Summary         Genres  \\\n",
       "0  Patton Oswalt, despite a personal tragedy, pro...  Uncategorized   \n",
       "\n",
       "     IMDB ID  Runtime YouTube Trailer  Rating  \\\n",
       "0  tt7026230       66     4hZi5QaMBFc     7.4   \n",
       "\n",
       "                                        Movie Poster           Director  \\\n",
       "0  https://hydramovies.com/wp-content/uploads/201...  Bobcat Goldthwait   \n",
       "\n",
       "         Writers           Cast  \n",
       "0  Patton Oswalt  Patton Oswalt  "
      ]
     },
     "execution_count": 124,
     "metadata": {},
     "output_type": "execute_result"
    }
   ],
   "source": [
    "first_clean=movies_first.copy()\n",
    "first_clean.head(1)"
   ]
  },
  {
   "cell_type": "code",
   "execution_count": 125,
   "metadata": {},
   "outputs": [
    {
     "data": {
      "text/html": [
       "<div>\n",
       "<style scoped>\n",
       "    .dataframe tbody tr th:only-of-type {\n",
       "        vertical-align: middle;\n",
       "    }\n",
       "\n",
       "    .dataframe tbody tr th {\n",
       "        vertical-align: top;\n",
       "    }\n",
       "\n",
       "    .dataframe thead th {\n",
       "        text-align: right;\n",
       "    }\n",
       "</style>\n",
       "<table border=\"1\" class=\"dataframe\">\n",
       "  <thead>\n",
       "    <tr style=\"text-align: right;\">\n",
       "      <th></th>\n",
       "      <th>Title</th>\n",
       "      <th>Rating</th>\n",
       "      <th>Genre</th>\n",
       "      <th>Runtime</th>\n",
       "    </tr>\n",
       "  </thead>\n",
       "  <tbody>\n",
       "    <tr>\n",
       "      <th>0</th>\n",
       "      <td>Le caviar rouge</td>\n",
       "      <td>4.1</td>\n",
       "      <td>Drama</td>\n",
       "      <td>92 min</td>\n",
       "    </tr>\n",
       "    <tr>\n",
       "      <th>1</th>\n",
       "      <td>The Octopuses from the Second Floor</td>\n",
       "      <td>6.9</td>\n",
       "      <td>Comedy, Family, Sci-Fi</td>\n",
       "      <td>92 min</td>\n",
       "    </tr>\n",
       "  </tbody>\n",
       "</table>\n",
       "</div>"
      ],
      "text/plain": [
       "                                 Title  Rating                   Genre Runtime\n",
       "0                      Le caviar rouge     4.1                   Drama  92 min\n",
       "1  The Octopuses from the Second Floor     6.9  Comedy, Family, Sci-Fi  92 min"
      ]
     },
     "execution_count": 125,
     "metadata": {},
     "output_type": "execute_result"
    }
   ],
   "source": [
    "second_clean=movies_sec.copy()\n",
    "second_clean.head(2)"
   ]
  },
  {
   "cell_type": "markdown",
   "metadata": {},
   "source": [
    "### Remove unnecessary variables for our study question:\n",
    "\n",
    "the first dataframe has the most columns that aren't totally related:"
   ]
  },
  {
   "cell_type": "code",
   "execution_count": 126,
   "metadata": {},
   "outputs": [],
   "source": [
    "columns_to_drop = ['Director', 'Writers', 'Cast', 'Movie Poster', 'IMDB ID', 'YouTube Trailer', 'Summary', 'Short Summary','Year']\n",
    "\n",
    "first_clean = first_clean.drop(columns=columns_to_drop)"
   ]
  },
  {
   "cell_type": "code",
   "execution_count": 127,
   "metadata": {},
   "outputs": [
    {
     "data": {
      "text/html": [
       "<div>\n",
       "<style scoped>\n",
       "    .dataframe tbody tr th:only-of-type {\n",
       "        vertical-align: middle;\n",
       "    }\n",
       "\n",
       "    .dataframe tbody tr th {\n",
       "        vertical-align: top;\n",
       "    }\n",
       "\n",
       "    .dataframe thead th {\n",
       "        text-align: right;\n",
       "    }\n",
       "</style>\n",
       "<table border=\"1\" class=\"dataframe\">\n",
       "  <thead>\n",
       "    <tr style=\"text-align: right;\">\n",
       "      <th></th>\n",
       "      <th>index</th>\n",
       "      <th>Title</th>\n",
       "      <th>Genres</th>\n",
       "      <th>Runtime</th>\n",
       "      <th>Rating</th>\n",
       "    </tr>\n",
       "  </thead>\n",
       "  <tbody>\n",
       "    <tr>\n",
       "      <th>2817</th>\n",
       "      <td>2817</td>\n",
       "      <td>Dead End</td>\n",
       "      <td>Adventure|Horror|Mystery|Thriller</td>\n",
       "      <td>85</td>\n",
       "      <td>6.7</td>\n",
       "    </tr>\n",
       "  </tbody>\n",
       "</table>\n",
       "</div>"
      ],
      "text/plain": [
       "      index     Title                             Genres  Runtime  Rating\n",
       "2817   2817  Dead End  Adventure|Horror|Mystery|Thriller       85     6.7"
      ]
     },
     "execution_count": 127,
     "metadata": {},
     "output_type": "execute_result"
    }
   ],
   "source": [
    "first_clean.sample()"
   ]
  },
  {
   "cell_type": "markdown",
   "metadata": {},
   "source": [
    "Where as we'll keep the second dataframe columns as they're essential to our study."
   ]
  },
  {
   "cell_type": "markdown",
   "metadata": {},
   "source": [
    "### Handling Duplicates\n"
   ]
  },
  {
   "cell_type": "markdown",
   "metadata": {},
   "source": [
    "#### a. The first dataframe:\n",
    "\n",
    "There are duplicates with different values for multiple columns.\n",
    "\n",
    "Cross checking if the duplicated movies exist in the second df , if so to keep the true values.\n"
   ]
  },
  {
   "cell_type": "code",
   "execution_count": 128,
   "metadata": {},
   "outputs": [
    {
     "name": "stdout",
     "output_type": "stream",
     "text": [
      "Duplicated movies in first_clean that exist in second_clean:\n",
      "Empty DataFrame\n",
      "Columns: [index, Title, Genres, Runtime, Rating]\n",
      "Index: []\n"
     ]
    }
   ],
   "source": [
    "duplicated_movies = first_clean[first_clean.duplicated(subset=['Title'])]\n",
    "common_movies = duplicated_movies[duplicated_movies['Title'].isin(second_clean['Title'])]\n",
    "\n",
    "print(\"Duplicated movies in first_clean that exist in second_clean:\")\n",
    "print(common_movies)"
   ]
  },
  {
   "cell_type": "markdown",
   "metadata": {},
   "source": [
    "We have an empty dataframe which leads us to dropping the duplictes to maintain more accurate results."
   ]
  },
  {
   "cell_type": "code",
   "execution_count": 129,
   "metadata": {},
   "outputs": [],
   "source": [
    "first_clean= first_clean.drop_duplicates(subset=['Title'], keep='first')"
   ]
  },
  {
   "cell_type": "markdown",
   "metadata": {},
   "source": [
    "To ensure all the duplicates in this df are dropped:"
   ]
  },
  {
   "cell_type": "code",
   "execution_count": 130,
   "metadata": {},
   "outputs": [
    {
     "data": {
      "text/plain": [
       "0"
      ]
     },
     "execution_count": 130,
     "metadata": {},
     "output_type": "execute_result"
    }
   ],
   "source": [
    "first_clean.duplicated().sum()"
   ]
  },
  {
   "cell_type": "markdown",
   "metadata": {},
   "source": [
    "#### b. The second dataframe:\n",
    "\n",
    "It has all the same rows copied twice, so dropping the copies."
   ]
  },
  {
   "cell_type": "code",
   "execution_count": 131,
   "metadata": {},
   "outputs": [],
   "source": [
    "second_clean= second_clean.drop_duplicates(subset=['Title'])"
   ]
  },
  {
   "cell_type": "code",
   "execution_count": 132,
   "metadata": {},
   "outputs": [
    {
     "data": {
      "text/html": [
       "<div>\n",
       "<style scoped>\n",
       "    .dataframe tbody tr th:only-of-type {\n",
       "        vertical-align: middle;\n",
       "    }\n",
       "\n",
       "    .dataframe tbody tr th {\n",
       "        vertical-align: top;\n",
       "    }\n",
       "\n",
       "    .dataframe thead th {\n",
       "        text-align: right;\n",
       "    }\n",
       "</style>\n",
       "<table border=\"1\" class=\"dataframe\">\n",
       "  <thead>\n",
       "    <tr style=\"text-align: right;\">\n",
       "      <th></th>\n",
       "      <th>Title</th>\n",
       "      <th>Rating</th>\n",
       "      <th>Genre</th>\n",
       "      <th>Runtime</th>\n",
       "    </tr>\n",
       "  </thead>\n",
       "  <tbody>\n",
       "    <tr>\n",
       "      <th>127</th>\n",
       "      <td>Roman Holiday</td>\n",
       "      <td>5.0</td>\n",
       "      <td>Comedy, Drama, Romance</td>\n",
       "      <td>100 min</td>\n",
       "    </tr>\n",
       "  </tbody>\n",
       "</table>\n",
       "</div>"
      ],
      "text/plain": [
       "             Title  Rating                   Genre  Runtime\n",
       "127  Roman Holiday     5.0  Comedy, Drama, Romance  100 min"
      ]
     },
     "execution_count": 132,
     "metadata": {},
     "output_type": "execute_result"
    }
   ],
   "source": [
    "second_clean.sample()"
   ]
  },
  {
   "cell_type": "markdown",
   "metadata": {},
   "source": [
    "To ensure all the duplicates in this df are dropped:"
   ]
  },
  {
   "cell_type": "code",
   "execution_count": 133,
   "metadata": {},
   "outputs": [
    {
     "data": {
      "text/plain": [
       "0"
      ]
     },
     "execution_count": 133,
     "metadata": {},
     "output_type": "execute_result"
    }
   ],
   "source": [
    "second_clean.duplicated().sum()"
   ]
  },
  {
   "cell_type": "markdown",
   "metadata": {},
   "source": [
    "All duplicate values are dropped successfully."
   ]
  },
  {
   "cell_type": "markdown",
   "metadata": {
    "id": "FmFhN52Yyn3l"
   },
   "source": [
    "### Handling Validity Issues"
   ]
  },
  {
   "cell_type": "code",
   "execution_count": 134,
   "metadata": {
    "id": "9UejDWrNMW4a"
   },
   "outputs": [],
   "source": [
    "first_clean['Runtime']=first_clean['Runtime'].replace({0:np.nan})"
   ]
  },
  {
   "cell_type": "code",
   "execution_count": 135,
   "metadata": {
    "id": "oUBee-LPytkv"
   },
   "outputs": [
    {
     "data": {
      "text/html": [
       "<div>\n",
       "<style scoped>\n",
       "    .dataframe tbody tr th:only-of-type {\n",
       "        vertical-align: middle;\n",
       "    }\n",
       "\n",
       "    .dataframe tbody tr th {\n",
       "        vertical-align: top;\n",
       "    }\n",
       "\n",
       "    .dataframe thead th {\n",
       "        text-align: right;\n",
       "    }\n",
       "</style>\n",
       "<table border=\"1\" class=\"dataframe\">\n",
       "  <thead>\n",
       "    <tr style=\"text-align: right;\">\n",
       "      <th></th>\n",
       "      <th>index</th>\n",
       "      <th>Title</th>\n",
       "      <th>Genres</th>\n",
       "      <th>Runtime</th>\n",
       "      <th>Rating</th>\n",
       "    </tr>\n",
       "  </thead>\n",
       "  <tbody>\n",
       "  </tbody>\n",
       "</table>\n",
       "</div>"
      ],
      "text/plain": [
       "Empty DataFrame\n",
       "Columns: [index, Title, Genres, Runtime, Rating]\n",
       "Index: []"
      ]
     },
     "execution_count": 135,
     "metadata": {},
     "output_type": "execute_result"
    }
   ],
   "source": [
    "first_clean[first_clean['Runtime'] == 0]"
   ]
  },
  {
   "cell_type": "code",
   "execution_count": 136,
   "metadata": {},
   "outputs": [
    {
     "data": {
      "text/plain": [
       "193"
      ]
     },
     "execution_count": 136,
     "metadata": {},
     "output_type": "execute_result"
    }
   ],
   "source": [
    "first_clean['Runtime'].isna().sum()"
   ]
  },
  {
   "cell_type": "markdown",
   "metadata": {},
   "source": [
    "There are 193 null values, which were previously misrepresented as 0."
   ]
  },
  {
   "cell_type": "code",
   "execution_count": 137,
   "metadata": {},
   "outputs": [],
   "source": [
    "first_clean['Genres']=first_clean['Genres'].replace({'Uncategorized':np.nan})"
   ]
  },
  {
   "cell_type": "code",
   "execution_count": 138,
   "metadata": {},
   "outputs": [
    {
     "data": {
      "text/html": [
       "<div>\n",
       "<style scoped>\n",
       "    .dataframe tbody tr th:only-of-type {\n",
       "        vertical-align: middle;\n",
       "    }\n",
       "\n",
       "    .dataframe tbody tr th {\n",
       "        vertical-align: top;\n",
       "    }\n",
       "\n",
       "    .dataframe thead th {\n",
       "        text-align: right;\n",
       "    }\n",
       "</style>\n",
       "<table border=\"1\" class=\"dataframe\">\n",
       "  <thead>\n",
       "    <tr style=\"text-align: right;\">\n",
       "      <th></th>\n",
       "      <th>index</th>\n",
       "      <th>Title</th>\n",
       "      <th>Genres</th>\n",
       "      <th>Runtime</th>\n",
       "      <th>Rating</th>\n",
       "    </tr>\n",
       "  </thead>\n",
       "  <tbody>\n",
       "  </tbody>\n",
       "</table>\n",
       "</div>"
      ],
      "text/plain": [
       "Empty DataFrame\n",
       "Columns: [index, Title, Genres, Runtime, Rating]\n",
       "Index: []"
      ]
     },
     "execution_count": 138,
     "metadata": {},
     "output_type": "execute_result"
    }
   ],
   "source": [
    "first_clean[first_clean['Genres']=='Uncategorized']"
   ]
  },
  {
   "cell_type": "code",
   "execution_count": 139,
   "metadata": {},
   "outputs": [
    {
     "data": {
      "text/plain": [
       "25"
      ]
     },
     "execution_count": 139,
     "metadata": {},
     "output_type": "execute_result"
    }
   ],
   "source": [
    "first_clean['Genres'].isna().sum()"
   ]
  },
  {
   "cell_type": "markdown",
   "metadata": {},
   "source": [
    "There are no misrepresented values now in both columns['Rating' , 'Runtime'], with 25 null values in genres column which do not affect our study so we'll ignore it.\n",
    "\n"
   ]
  },
  {
   "cell_type": "markdown",
   "metadata": {
    "id": "n_DAUbJrymBL"
   },
   "source": [
    "### Handling Missing Values"
   ]
  },
  {
   "cell_type": "code",
   "execution_count": 140,
   "metadata": {
    "id": "5Yfb-Yu5MTuE"
   },
   "outputs": [
    {
     "data": {
      "text/plain": [
       "index        0\n",
       "Title        0\n",
       "Genres      25\n",
       "Runtime    193\n",
       "Rating       0\n",
       "dtype: int64"
      ]
     },
     "execution_count": 140,
     "metadata": {},
     "output_type": "execute_result"
    }
   ],
   "source": [
    "first_clean.isna().sum()"
   ]
  },
  {
   "cell_type": "markdown",
   "metadata": {
    "id": "ionB2sRaMUmY"
   },
   "source": [
    "The Perecentage of missing values is 4.89% of our dataframe with no Runtime values which are essential, I chose to lean into imputing the missing values in this column."
   ]
  },
  {
   "cell_type": "code",
   "execution_count": 141,
   "metadata": {},
   "outputs": [],
   "source": [
    "first_clean['Runtime']=first_clean['Runtime'].fillna(first_clean['Runtime'].mean())"
   ]
  },
  {
   "cell_type": "code",
   "execution_count": 142,
   "metadata": {},
   "outputs": [
    {
     "data": {
      "text/plain": [
       "0"
      ]
     },
     "execution_count": 142,
     "metadata": {},
     "output_type": "execute_result"
    }
   ],
   "source": [
    "first_clean['Runtime'].isna().sum()"
   ]
  },
  {
   "cell_type": "markdown",
   "metadata": {},
   "source": [
    "After imputing the NaN values in this dataframe with the mean, there are no null values for sure now."
   ]
  },
  {
   "cell_type": "markdown",
   "metadata": {},
   "source": [
    "### To Handle The Data Types:"
   ]
  },
  {
   "cell_type": "code",
   "execution_count": 143,
   "metadata": {},
   "outputs": [
    {
     "name": "stdout",
     "output_type": "stream",
     "text": [
      "<class 'pandas.core.frame.DataFrame'>\n",
      "Index: 3927 entries, 0 to 3939\n",
      "Data columns (total 5 columns):\n",
      " #   Column   Non-Null Count  Dtype  \n",
      "---  ------   --------------  -----  \n",
      " 0   index    3927 non-null   int64  \n",
      " 1   Title    3927 non-null   object \n",
      " 2   Genres   3902 non-null   object \n",
      " 3   Runtime  3927 non-null   float64\n",
      " 4   Rating   3927 non-null   float64\n",
      "dtypes: float64(2), int64(1), object(2)\n",
      "memory usage: 184.1+ KB\n"
     ]
    }
   ],
   "source": [
    "first_clean.info()"
   ]
  },
  {
   "cell_type": "code",
   "execution_count": 144,
   "metadata": {},
   "outputs": [],
   "source": [
    "first_clean['Runtime'] = first_clean['Runtime'].astype('int16')\n",
    "\n",
    "first_clean['Rating'] = first_clean['Rating'].astype('float16')"
   ]
  },
  {
   "cell_type": "code",
   "execution_count": 145,
   "metadata": {},
   "outputs": [
    {
     "name": "stdout",
     "output_type": "stream",
     "text": [
      "<class 'pandas.core.frame.DataFrame'>\n",
      "Index: 3927 entries, 0 to 3939\n",
      "Data columns (total 5 columns):\n",
      " #   Column   Non-Null Count  Dtype  \n",
      "---  ------   --------------  -----  \n",
      " 0   index    3927 non-null   int64  \n",
      " 1   Title    3927 non-null   object \n",
      " 2   Genres   3902 non-null   object \n",
      " 3   Runtime  3927 non-null   int16  \n",
      " 4   Rating   3927 non-null   float16\n",
      "dtypes: float16(1), int16(1), int64(1), object(2)\n",
      "memory usage: 138.1+ KB\n"
     ]
    }
   ],
   "source": [
    "first_clean.info()"
   ]
  },
  {
   "cell_type": "markdown",
   "metadata": {},
   "source": [
    "As a result of enhancing the data types, notice that the **memory usage** has dropped to **107.4+ KB** from **153.4+ KB**."
   ]
  },
  {
   "cell_type": "markdown",
   "metadata": {},
   "source": [
    "#### As for the second dataframe:"
   ]
  },
  {
   "cell_type": "code",
   "execution_count": 146,
   "metadata": {},
   "outputs": [
    {
     "name": "stdout",
     "output_type": "stream",
     "text": [
      "Title       0\n",
      "Rating     25\n",
      "Genre      18\n",
      "Runtime    22\n",
      "dtype: int64\n"
     ]
    }
   ],
   "source": [
    "print(second_clean.isnull().sum())"
   ]
  },
  {
   "cell_type": "markdown",
   "metadata": {},
   "source": [
    "Drop rows where both **'Runtime' and 'Rating' are null** as they would lead to inaccurate results.\n",
    "\n"
   ]
  },
  {
   "cell_type": "code",
   "execution_count": 147,
   "metadata": {},
   "outputs": [
    {
     "name": "stdout",
     "output_type": "stream",
     "text": [
      "Title       0\n",
      "Rating     13\n",
      "Genre      10\n",
      "Runtime    10\n",
      "dtype: int64\n"
     ]
    }
   ],
   "source": [
    "second_clean = second_clean.dropna(subset=['Runtime', 'Rating'], how='all')\n",
    "print(second_clean.isnull().sum())"
   ]
  },
  {
   "cell_type": "markdown",
   "metadata": {},
   "source": [
    "As for the ramaining rows we will impute them with the mean values."
   ]
  },
  {
   "cell_type": "markdown",
   "metadata": {},
   "source": [
    "### Handling the Second Tidiness Issue:\n"
   ]
  },
  {
   "cell_type": "markdown",
   "metadata": {},
   "source": [
    "The second dataframe (second_clean) had the Runtime column with values such as: 1h 30min or 45min, which needs to be corrected in order to fill the null values in this column."
   ]
  },
  {
   "cell_type": "code",
   "execution_count": 148,
   "metadata": {},
   "outputs": [],
   "source": [
    "import re"
   ]
  },
  {
   "cell_type": "code",
   "execution_count": 149,
   "metadata": {},
   "outputs": [
    {
     "name": "stdout",
     "output_type": "stream",
     "text": [
      "0    92 min\n",
      "1    92 min\n",
      "2    82 min\n",
      "3    99 min\n",
      "4    96 min\n",
      "Name: Runtime, dtype: object\n"
     ]
    }
   ],
   "source": [
    "print(second_clean['Runtime'].head())"
   ]
  },
  {
   "cell_type": "code",
   "execution_count": 150,
   "metadata": {},
   "outputs": [],
   "source": [
    "def convert_to_minutes(runtime):\n",
    "    if isinstance(runtime, str):\n",
    "        match = re.match(r'(?:(\\d+) h )?(?:(\\d+) min)?', runtime)\n",
    "        if match:\n",
    "            hours = int(match.group(1)) if match.group(1) else 0\n",
    "            minutes = int(match.group(2)) if match.group(2) else 0\n",
    "            return hours * 60 + minutes\n",
    "        else:\n",
    "            print(f\"Runtime format issue: {runtime}\")  # Debugging line\n",
    "    return np.nan\n"
   ]
  },
  {
   "cell_type": "code",
   "execution_count": 151,
   "metadata": {},
   "outputs": [],
   "source": [
    "second_clean['Runtime'] = second_clean['Runtime'].apply(lambda x: convert_to_minutes(str(x)) if pd.notnull(x) else np.nan)"
   ]
  },
  {
   "cell_type": "code",
   "execution_count": 152,
   "metadata": {},
   "outputs": [],
   "source": [
    "second_clean['Runtime'] = second_clean['Runtime'].fillna(second_clean['Runtime'].mean())"
   ]
  },
  {
   "cell_type": "code",
   "execution_count": 153,
   "metadata": {},
   "outputs": [
    {
     "name": "stdout",
     "output_type": "stream",
     "text": [
      "Title       0\n",
      "Rating     13\n",
      "Genre      10\n",
      "Runtime     0\n",
      "dtype: int64\n"
     ]
    }
   ],
   "source": [
    "print(second_clean.isnull().sum())"
   ]
  },
  {
   "cell_type": "code",
   "execution_count": 154,
   "metadata": {},
   "outputs": [
    {
     "name": "stdout",
     "output_type": "stream",
     "text": [
      "<class 'pandas.core.frame.DataFrame'>\n",
      "Index: 199 entries, 0 to 214\n",
      "Data columns (total 4 columns):\n",
      " #   Column   Non-Null Count  Dtype  \n",
      "---  ------   --------------  -----  \n",
      " 0   Title    199 non-null    object \n",
      " 1   Rating   186 non-null    float64\n",
      " 2   Genre    189 non-null    object \n",
      " 3   Runtime  199 non-null    float64\n",
      "dtypes: float64(2), object(2)\n",
      "memory usage: 7.8+ KB\n"
     ]
    }
   ],
   "source": [
    "second_clean.info()"
   ]
  },
  {
   "cell_type": "code",
   "execution_count": 155,
   "metadata": {},
   "outputs": [],
   "source": [
    "second_clean['Runtime'] = second_clean['Runtime'].astype('int16')\n",
    "\n",
    "second_clean['Rating'] = second_clean['Rating'].astype('float16')"
   ]
  },
  {
   "cell_type": "code",
   "execution_count": 156,
   "metadata": {},
   "outputs": [
    {
     "name": "stdout",
     "output_type": "stream",
     "text": [
      "<class 'pandas.core.frame.DataFrame'>\n",
      "Index: 199 entries, 0 to 214\n",
      "Data columns (total 4 columns):\n",
      " #   Column   Non-Null Count  Dtype  \n",
      "---  ------   --------------  -----  \n",
      " 0   Title    199 non-null    object \n",
      " 1   Rating   186 non-null    float16\n",
      " 2   Genre    189 non-null    object \n",
      " 3   Runtime  199 non-null    int16  \n",
      "dtypes: float16(1), int16(1), object(2)\n",
      "memory usage: 5.4+ KB\n"
     ]
    }
   ],
   "source": [
    "second_clean.info()"
   ]
  },
  {
   "cell_type": "markdown",
   "metadata": {},
   "source": [
    "### Handling Inconsistency:"
   ]
  },
  {
   "cell_type": "code",
   "execution_count": 157,
   "metadata": {},
   "outputs": [
    {
     "data": {
      "text/html": [
       "<div>\n",
       "<style scoped>\n",
       "    .dataframe tbody tr th:only-of-type {\n",
       "        vertical-align: middle;\n",
       "    }\n",
       "\n",
       "    .dataframe tbody tr th {\n",
       "        vertical-align: top;\n",
       "    }\n",
       "\n",
       "    .dataframe thead th {\n",
       "        text-align: right;\n",
       "    }\n",
       "</style>\n",
       "<table border=\"1\" class=\"dataframe\">\n",
       "  <thead>\n",
       "    <tr style=\"text-align: right;\">\n",
       "      <th></th>\n",
       "      <th>index</th>\n",
       "      <th>Title</th>\n",
       "      <th>Genres</th>\n",
       "      <th>Runtime</th>\n",
       "      <th>Rating</th>\n",
       "    </tr>\n",
       "  </thead>\n",
       "  <tbody>\n",
       "    <tr>\n",
       "      <th>0</th>\n",
       "      <td>0</td>\n",
       "      <td>Patton Oswalt: Annihilation</td>\n",
       "      <td>NaN</td>\n",
       "      <td>66</td>\n",
       "      <td>7.398438</td>\n",
       "    </tr>\n",
       "    <tr>\n",
       "      <th>1</th>\n",
       "      <td>1</td>\n",
       "      <td>New York Doll</td>\n",
       "      <td>Documentary,Music</td>\n",
       "      <td>75</td>\n",
       "      <td>7.898438</td>\n",
       "    </tr>\n",
       "    <tr>\n",
       "      <th>2</th>\n",
       "      <td>2</td>\n",
       "      <td>Mickey's Magical Christmas: Snowed in at the H...</td>\n",
       "      <td>Adventure,Animation,Comedy,Family,Fantasy</td>\n",
       "      <td>65</td>\n",
       "      <td>6.800781</td>\n",
       "    </tr>\n",
       "    <tr>\n",
       "      <th>3</th>\n",
       "      <td>3</td>\n",
       "      <td>Mickey's House of Villains</td>\n",
       "      <td>Animation,Comedy,Family,Fantasy,Horror</td>\n",
       "      <td>105</td>\n",
       "      <td>6.601562</td>\n",
       "    </tr>\n",
       "    <tr>\n",
       "      <th>4</th>\n",
       "      <td>4</td>\n",
       "      <td>And Then I Go</td>\n",
       "      <td>Drama</td>\n",
       "      <td>99</td>\n",
       "      <td>7.601562</td>\n",
       "    </tr>\n",
       "  </tbody>\n",
       "</table>\n",
       "</div>"
      ],
      "text/plain": [
       "   index                                              Title  \\\n",
       "0      0                        Patton Oswalt: Annihilation   \n",
       "1      1                                      New York Doll   \n",
       "2      2  Mickey's Magical Christmas: Snowed in at the H...   \n",
       "3      3                         Mickey's House of Villains   \n",
       "4      4                                      And Then I Go   \n",
       "\n",
       "                                      Genres  Runtime    Rating  \n",
       "0                                        NaN       66  7.398438  \n",
       "1                          Documentary,Music       75  7.898438  \n",
       "2  Adventure,Animation,Comedy,Family,Fantasy       65  6.800781  \n",
       "3     Animation,Comedy,Family,Fantasy,Horror      105  6.601562  \n",
       "4                                      Drama       99  7.601562  "
      ]
     },
     "execution_count": 157,
     "metadata": {},
     "output_type": "execute_result"
    }
   ],
   "source": [
    "first_clean['Genres'] = first_clean['Genres'].apply(lambda x: str(x) if pd.notna(x) else x)\n",
    "\n",
    "first_clean['Genres'] = first_clean['Genres'].str.replace('|', ',', regex=False)\n",
    "\n",
    "first_clean.head()"
   ]
  },
  {
   "cell_type": "code",
   "execution_count": 158,
   "metadata": {},
   "outputs": [
    {
     "data": {
      "text/html": [
       "<div>\n",
       "<style scoped>\n",
       "    .dataframe tbody tr th:only-of-type {\n",
       "        vertical-align: middle;\n",
       "    }\n",
       "\n",
       "    .dataframe tbody tr th {\n",
       "        vertical-align: top;\n",
       "    }\n",
       "\n",
       "    .dataframe thead th {\n",
       "        text-align: right;\n",
       "    }\n",
       "</style>\n",
       "<table border=\"1\" class=\"dataframe\">\n",
       "  <thead>\n",
       "    <tr style=\"text-align: right;\">\n",
       "      <th></th>\n",
       "      <th>index</th>\n",
       "      <th>Title</th>\n",
       "      <th>Year</th>\n",
       "      <th>Summary</th>\n",
       "      <th>Short Summary</th>\n",
       "      <th>Genres</th>\n",
       "      <th>IMDB ID</th>\n",
       "      <th>Runtime</th>\n",
       "      <th>YouTube Trailer</th>\n",
       "      <th>Rating</th>\n",
       "      <th>Movie Poster</th>\n",
       "      <th>Director</th>\n",
       "      <th>Writers</th>\n",
       "      <th>Cast</th>\n",
       "    </tr>\n",
       "  </thead>\n",
       "  <tbody>\n",
       "    <tr>\n",
       "      <th>1940</th>\n",
       "      <td>1940</td>\n",
       "      <td>Monster House</td>\n",
       "      <td>2006</td>\n",
       "      <td>The teenage Ninja mutant snail DJ is observing...</td>\n",
       "      <td>Three teens discover that their neighbor's hou...</td>\n",
       "      <td>Action|Adventure|Animation|Comedy|Family</td>\n",
       "      <td>tt0385880</td>\n",
       "      <td>91</td>\n",
       "      <td>DSmE-0A5B8A</td>\n",
       "      <td>6.6</td>\n",
       "      <td>https://hydramovies.com/wp-content/uploads/201...</td>\n",
       "      <td>Gil Kenan</td>\n",
       "      <td>Dan Harmon</td>\n",
       "      <td>Mitchel Musso|Sam Lerner</td>\n",
       "    </tr>\n",
       "  </tbody>\n",
       "</table>\n",
       "</div>"
      ],
      "text/plain": [
       "      index          Title  Year  \\\n",
       "1940   1940  Monster House  2006   \n",
       "\n",
       "                                                Summary  \\\n",
       "1940  The teenage Ninja mutant snail DJ is observing...   \n",
       "\n",
       "                                          Short Summary  \\\n",
       "1940  Three teens discover that their neighbor's hou...   \n",
       "\n",
       "                                        Genres    IMDB ID  Runtime  \\\n",
       "1940  Action|Adventure|Animation|Comedy|Family  tt0385880       91   \n",
       "\n",
       "     YouTube Trailer  Rating  \\\n",
       "1940     DSmE-0A5B8A     6.6   \n",
       "\n",
       "                                           Movie Poster   Director  \\\n",
       "1940  https://hydramovies.com/wp-content/uploads/201...  Gil Kenan   \n",
       "\n",
       "         Writers                      Cast  \n",
       "1940  Dan Harmon  Mitchel Musso|Sam Lerner  "
      ]
     },
     "execution_count": 158,
     "metadata": {},
     "output_type": "execute_result"
    }
   ],
   "source": [
    "movies_first.sample(random_state=5)"
   ]
  },
  {
   "cell_type": "markdown",
   "metadata": {},
   "source": [
    "Like this the column Genres in the first_clean dataframe will be separated by commas instead of bars."
   ]
  },
  {
   "cell_type": "markdown",
   "metadata": {},
   "source": [
    "### To have the structure for both dataframes more consistent:\n"
   ]
  },
  {
   "cell_type": "markdown",
   "metadata": {},
   "source": [
    "To have both dataframes share the column names to ready them for the merge process."
   ]
  },
  {
   "cell_type": "code",
   "execution_count": 159,
   "metadata": {},
   "outputs": [],
   "source": [
    "first_clean.rename(columns={'Genres': 'Genre'}, inplace=True)"
   ]
  },
  {
   "cell_type": "code",
   "execution_count": 160,
   "metadata": {},
   "outputs": [
    {
     "data": {
      "text/html": [
       "<div>\n",
       "<style scoped>\n",
       "    .dataframe tbody tr th:only-of-type {\n",
       "        vertical-align: middle;\n",
       "    }\n",
       "\n",
       "    .dataframe tbody tr th {\n",
       "        vertical-align: top;\n",
       "    }\n",
       "\n",
       "    .dataframe thead th {\n",
       "        text-align: right;\n",
       "    }\n",
       "</style>\n",
       "<table border=\"1\" class=\"dataframe\">\n",
       "  <thead>\n",
       "    <tr style=\"text-align: right;\">\n",
       "      <th></th>\n",
       "      <th>index</th>\n",
       "      <th>Title</th>\n",
       "      <th>Genre</th>\n",
       "      <th>Runtime</th>\n",
       "      <th>Rating</th>\n",
       "    </tr>\n",
       "  </thead>\n",
       "  <tbody>\n",
       "    <tr>\n",
       "      <th>0</th>\n",
       "      <td>0</td>\n",
       "      <td>Patton Oswalt: Annihilation</td>\n",
       "      <td>NaN</td>\n",
       "      <td>66</td>\n",
       "      <td>7.398438</td>\n",
       "    </tr>\n",
       "    <tr>\n",
       "      <th>1</th>\n",
       "      <td>1</td>\n",
       "      <td>New York Doll</td>\n",
       "      <td>Documentary,Music</td>\n",
       "      <td>75</td>\n",
       "      <td>7.898438</td>\n",
       "    </tr>\n",
       "  </tbody>\n",
       "</table>\n",
       "</div>"
      ],
      "text/plain": [
       "   index                        Title              Genre  Runtime    Rating\n",
       "0      0  Patton Oswalt: Annihilation                NaN       66  7.398438\n",
       "1      1                New York Doll  Documentary,Music       75  7.898438"
      ]
     },
     "execution_count": 160,
     "metadata": {},
     "output_type": "execute_result"
    }
   ],
   "source": [
    "first_clean.head(2)"
   ]
  },
  {
   "cell_type": "markdown",
   "metadata": {},
   "source": [
    "**Note:** the Genres column has multiple values inside yet I chose to keep it since it doesn't impact our study.\n",
    "\n",
    "from those samples from both dataframes we can see that the data is clean and ready to be combined.\n"
   ]
  },
  {
   "cell_type": "markdown",
   "metadata": {
    "id": "F42urHuzttjF"
   },
   "source": [
    "## 4. Update your data store\n",
    "\n",
    "To create the dataframes:"
   ]
  },
  {
   "cell_type": "code",
   "execution_count": 161,
   "metadata": {
    "id": "V3uay7EJUV_L"
   },
   "outputs": [],
   "source": [
    "cleaned_movies_first = pd.DataFrame(first_clean)\n",
    "cleaned_movies_second = pd.DataFrame(second_clean)"
   ]
  },
  {
   "cell_type": "code",
   "execution_count": 162,
   "metadata": {},
   "outputs": [],
   "source": [
    "cleaned_movies_second = cleaned_movies_second[['Title', 'Genre', 'Runtime', 'Rating']]"
   ]
  },
  {
   "cell_type": "code",
   "execution_count": 163,
   "metadata": {},
   "outputs": [],
   "source": [
    "# Save the DataFrames to CSV files\n",
    "cleaned_movies_first.to_csv('cleaned_movies_first.csv', index=False)\n",
    "cleaned_movies_second.to_csv('cleaned_movies_second.csv', index=False)"
   ]
  },
  {
   "cell_type": "markdown",
   "metadata": {},
   "source": [
    "### Combining The DataFrames:\n"
   ]
  },
  {
   "cell_type": "code",
   "execution_count": 164,
   "metadata": {},
   "outputs": [],
   "source": [
    "combined_df = pd.DataFrame(pd.concat([cleaned_movies_first, cleaned_movies_second], ignore_index=True))"
   ]
  },
  {
   "cell_type": "markdown",
   "metadata": {},
   "source": [
    "Save the combined DataFrame to a CSV file:"
   ]
  },
  {
   "cell_type": "code",
   "execution_count": 165,
   "metadata": {},
   "outputs": [],
   "source": [
    "combined_df.to_csv('combined_movies.csv', index=False)"
   ]
  },
  {
   "cell_type": "markdown",
   "metadata": {},
   "source": [
    "The combined DtaFrame:"
   ]
  },
  {
   "cell_type": "code",
   "execution_count": 166,
   "metadata": {},
   "outputs": [
    {
     "data": {
      "text/html": [
       "<div>\n",
       "<style scoped>\n",
       "    .dataframe tbody tr th:only-of-type {\n",
       "        vertical-align: middle;\n",
       "    }\n",
       "\n",
       "    .dataframe tbody tr th {\n",
       "        vertical-align: top;\n",
       "    }\n",
       "\n",
       "    .dataframe thead th {\n",
       "        text-align: right;\n",
       "    }\n",
       "</style>\n",
       "<table border=\"1\" class=\"dataframe\">\n",
       "  <thead>\n",
       "    <tr style=\"text-align: right;\">\n",
       "      <th></th>\n",
       "      <th>index</th>\n",
       "      <th>Title</th>\n",
       "      <th>Genre</th>\n",
       "      <th>Runtime</th>\n",
       "      <th>Rating</th>\n",
       "    </tr>\n",
       "  </thead>\n",
       "  <tbody>\n",
       "    <tr>\n",
       "      <th>0</th>\n",
       "      <td>0.0</td>\n",
       "      <td>Patton Oswalt: Annihilation</td>\n",
       "      <td>NaN</td>\n",
       "      <td>66</td>\n",
       "      <td>7.398438</td>\n",
       "    </tr>\n",
       "    <tr>\n",
       "      <th>1</th>\n",
       "      <td>1.0</td>\n",
       "      <td>New York Doll</td>\n",
       "      <td>Documentary,Music</td>\n",
       "      <td>75</td>\n",
       "      <td>7.898438</td>\n",
       "    </tr>\n",
       "    <tr>\n",
       "      <th>2</th>\n",
       "      <td>2.0</td>\n",
       "      <td>Mickey's Magical Christmas: Snowed in at the H...</td>\n",
       "      <td>Adventure,Animation,Comedy,Family,Fantasy</td>\n",
       "      <td>65</td>\n",
       "      <td>6.800781</td>\n",
       "    </tr>\n",
       "    <tr>\n",
       "      <th>3</th>\n",
       "      <td>3.0</td>\n",
       "      <td>Mickey's House of Villains</td>\n",
       "      <td>Animation,Comedy,Family,Fantasy,Horror</td>\n",
       "      <td>105</td>\n",
       "      <td>6.601562</td>\n",
       "    </tr>\n",
       "    <tr>\n",
       "      <th>4</th>\n",
       "      <td>4.0</td>\n",
       "      <td>And Then I Go</td>\n",
       "      <td>Drama</td>\n",
       "      <td>99</td>\n",
       "      <td>7.601562</td>\n",
       "    </tr>\n",
       "  </tbody>\n",
       "</table>\n",
       "</div>"
      ],
      "text/plain": [
       "   index                                              Title  \\\n",
       "0    0.0                        Patton Oswalt: Annihilation   \n",
       "1    1.0                                      New York Doll   \n",
       "2    2.0  Mickey's Magical Christmas: Snowed in at the H...   \n",
       "3    3.0                         Mickey's House of Villains   \n",
       "4    4.0                                      And Then I Go   \n",
       "\n",
       "                                       Genre  Runtime    Rating  \n",
       "0                                        NaN       66  7.398438  \n",
       "1                          Documentary,Music       75  7.898438  \n",
       "2  Adventure,Animation,Comedy,Family,Fantasy       65  6.800781  \n",
       "3     Animation,Comedy,Family,Fantasy,Horror      105  6.601562  \n",
       "4                                      Drama       99  7.601562  "
      ]
     },
     "execution_count": 166,
     "metadata": {},
     "output_type": "execute_result"
    }
   ],
   "source": [
    "combined_df.head()"
   ]
  },
  {
   "cell_type": "code",
   "execution_count": 167,
   "metadata": {},
   "outputs": [
    {
     "data": {
      "text/plain": [
       "(4126, 5)"
      ]
     },
     "execution_count": 167,
     "metadata": {},
     "output_type": "execute_result"
    }
   ],
   "source": [
    "combined_df.shape"
   ]
  },
  {
   "cell_type": "markdown",
   "metadata": {
    "id": "cGy_yddGtzhM"
   },
   "source": [
    "## 5. Answer the research question\n",
    "\n",
    "### **5.1:** How is Runtime and Rating related?\n",
    "\n",
    "**First Visualization - Scatter Plot.**"
   ]
  },
  {
   "cell_type": "code",
   "execution_count": 168,
   "metadata": {
    "id": "Lkw3rW9kZmOm"
   },
   "outputs": [
    {
     "name": "stdout",
     "output_type": "stream",
     "text": [
      "Defaulting to user installation because normal site-packages is not writeable\n",
      "Requirement already satisfied: matplotlib in /opt/conda/lib/python3.10/site-packages (3.7.2)\n",
      "Collecting matplotlib\n",
      "  Downloading matplotlib-3.10.1-cp310-cp310-manylinux_2_17_x86_64.manylinux2014_x86_64.whl (8.6 MB)\n",
      "\u001b[2K     \u001b[90m━━━━━━━━━━━━━━━━━━━━━━━━━━━━━━━━━━━━━━━━\u001b[0m \u001b[32m8.6/8.6 MB\u001b[0m \u001b[31m33.2 MB/s\u001b[0m eta \u001b[36m0:00:00\u001b[0m00:01\u001b[0m00:01\u001b[0m\n",
      "\u001b[?25hRequirement already satisfied: seaborn in /opt/conda/lib/python3.10/site-packages (0.12.2)\n",
      "Collecting seaborn\n",
      "  Downloading seaborn-0.13.2-py3-none-any.whl (294 kB)\n",
      "\u001b[2K     \u001b[90m━━━━━━━━━━━━━━━━━━━━━━━━━━━━━━━━━━━━━━\u001b[0m \u001b[32m294.9/294.9 kB\u001b[0m \u001b[31m39.5 MB/s\u001b[0m eta \u001b[36m0:00:00\u001b[0m\n",
      "\u001b[?25hRequirement already satisfied: kiwisolver>=1.3.1 in /opt/conda/lib/python3.10/site-packages (from matplotlib) (1.4.5)\n",
      "Requirement already satisfied: python-dateutil>=2.7 in /opt/conda/lib/python3.10/site-packages (from matplotlib) (2.9.0.post0)\n",
      "Requirement already satisfied: pyparsing>=2.3.1 in /opt/conda/lib/python3.10/site-packages (from matplotlib) (3.0.9)\n",
      "Requirement already satisfied: numpy>=1.23 in /opt/conda/lib/python3.10/site-packages (from matplotlib) (1.24.3)\n",
      "Requirement already satisfied: contourpy>=1.0.1 in /opt/conda/lib/python3.10/site-packages (from matplotlib) (1.2.1)\n",
      "Requirement already satisfied: cycler>=0.10 in /opt/conda/lib/python3.10/site-packages (from matplotlib) (0.12.1)\n",
      "Requirement already satisfied: fonttools>=4.22.0 in /opt/conda/lib/python3.10/site-packages (from matplotlib) (4.51.0)\n",
      "Requirement already satisfied: pillow>=8 in /opt/conda/lib/python3.10/site-packages (from matplotlib) (9.4.0)\n",
      "Requirement already satisfied: packaging>=20.0 in /opt/conda/lib/python3.10/site-packages (from matplotlib) (23.0)\n",
      "Requirement already satisfied: pandas>=1.2 in /opt/conda/lib/python3.10/site-packages (from seaborn) (2.0.3)\n",
      "Requirement already satisfied: tzdata>=2022.1 in /opt/conda/lib/python3.10/site-packages (from pandas>=1.2->seaborn) (2024.1)\n",
      "Requirement already satisfied: pytz>=2020.1 in /opt/conda/lib/python3.10/site-packages (from pandas>=1.2->seaborn) (2022.7)\n",
      "Requirement already satisfied: six>=1.5 in /opt/conda/lib/python3.10/site-packages (from python-dateutil>=2.7->matplotlib) (1.16.0)\n",
      "Installing collected packages: matplotlib, seaborn\n",
      "Successfully installed matplotlib-3.10.1 seaborn-0.13.2\n",
      "Note: you may need to restart the kernel to use updated packages.\n"
     ]
    }
   ],
   "source": [
    "pip install --upgrade matplotlib seaborn"
   ]
  },
  {
   "cell_type": "code",
   "execution_count": 169,
   "metadata": {
    "id": "6fdK_8ZGZm9R"
   },
   "outputs": [
    {
     "data": {
      "image/png": "[encoded data removed]",
      "text/plain": [
       "<Figure size 1000x600 with 1 Axes>"
      ]
     },
     "metadata": {},
     "output_type": "display_data"
    }
   ],
   "source": [
    "import matplotlib.pyplot as plt\n",
    "import seaborn as sns\n",
    "\n",
    "plt.figure(figsize=(10, 6))\n",
    "sns.scatterplot(x='Runtime', y='Rating', data=combined_df)\n",
    "plt.title('Scatter Plot of Runtime vs. Rating')\n",
    "plt.xlabel('Runtime (minutes)')\n",
    "plt.ylabel('Rating')\n",
    "plt.show()"
   ]
  },
  {
   "cell_type": "markdown",
   "metadata": {
    "id": "K5RgvMGUZoHn"
   },
   "source": [
    "The scatter plot shows that most movies are between [82-140] minutes, those have ratings of 5.3 to 8.5 which suggests that a common runtime for movies is around this range, and these movies tend to have moderate to good ratings."
   ]
  },
  {
   "cell_type": "markdown",
   "metadata": {},
   "source": [
    "#### Second Visualization - Box Plot."
   ]
  },
  {
   "cell_type": "code",
   "execution_count": 170,
   "metadata": {},
   "outputs": [
    {
     "name": "stderr",
     "output_type": "stream",
     "text": [
      "/tmp/ipykernel_64/334637745.py:8: FutureWarning: The default of observed=False is deprecated and will be changed to True in a future version of pandas. Pass observed=False to retain current behavior or observed=True to adopt the future default and silence this warning.\n",
      "  average_rating = combined_df.groupby('Runtime_bin')['Rating'].mean().reset_index()\n",
      "/tmp/ipykernel_64/334637745.py:12: FutureWarning: \n",
      "\n",
      "Passing `palette` without assigning `hue` is deprecated and will be removed in v0.14.0. Assign the `x` variable to `hue` and set `legend=False` for the same effect.\n",
      "\n",
      "  sns.barplot(x='Runtime_bin', y='Rating', data=average_rating, palette='viridis')\n"
     ]
    },
    {
     "data": {
      "image/png": "[encoded data removed]",
      "text/plain": [
       "<Figure size 1200x600 with 1 Axes>"
      ]
     },
     "metadata": {},
     "output_type": "display_data"
    }
   ],
   "source": [
    "bins = [0, 30, 60, 90, 120, 150, 180]\n",
    "labels = ['0-30', '31-60', '61-90', '91-120', '121-150', '151-180']\n",
    "\n",
    "# Bin the data\n",
    "combined_df['Runtime_bin'] = pd.cut(combined_df['Runtime'], bins=bins, labels=labels, right=False)\n",
    "\n",
    "# Calculate average rating for each bin\n",
    "average_rating = combined_df.groupby('Runtime_bin')['Rating'].mean().reset_index()\n",
    "\n",
    "# Create the bar plot\n",
    "plt.figure(figsize=(12, 6))\n",
    "sns.barplot(x='Runtime_bin', y='Rating', data=average_rating, palette='viridis')\n",
    "plt.title('Average Rating by Runtime Bins')\n",
    "plt.xlabel('Runtime Bin (minutes)')\n",
    "plt.ylabel('Average Rating')\n",
    "plt.show()"
   ]
  },
  {
   "cell_type": "markdown",
   "metadata": {
    "id": "0ezWXXZVj-TP"
   },
   "source": [
    "### **5.2:** Reflection\n",
    "\n",
    "I would go deeper into the impact of different genres and cast members on movie ratings. Specifically, analyze how varying genres might influence ratings and investigate whether specific cast members or ensemble casts correlate with longer or shorter films."
   ]
  },
  {
   "cell_type": "markdown",
   "metadata": {
    "id": "XB3RBDG5kFe1"
   },
   "source": [
    "As for data quality issue Iwould like to investigate and handle outliers or anomalies that might skew the results."
   ]
  }
 ],
 "metadata": {
  "colab": {
   "provenance": []
  },
  "kernelspec": {
   "display_name": "Python 3 (ipykernel)",
   "language": "python",
   "name": "python3"
  },
  "language_info": {
   "codemirror_mode": {
    "name": "ipython",
    "version": 3
   },
   "file_extension": ".py",
   "mimetype": "text/x-python",
   "name": "python",
   "nbconvert_exporter": "python",
   "pygments_lexer": "ipython3",
   "version": "3.10.11"
  }
 },
 "nbformat": 4,
 "nbformat_minor": 1
}
